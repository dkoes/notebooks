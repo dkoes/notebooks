{
 "cells": [
  {
   "cell_type": "markdown",
   "metadata": {},
   "source": [
    "Here I'm evaluating how well matrix factorization can work at predicting cross-assay bioactivities from ChEMBL.  Specifically, I'm using training/test sets provided by Eric Martin.\n",
    "\n",
    "The idea is we have a matrix where the rows are unique compounds and the columns are unique assays.  The matrix is sparse and we want to predict the missing values.\n",
    "\n",
    "First I'm going to investigate straightforward MF and then, hopefully, experiment with different loss functions and including chemical fingerprints in the matrix."
   ]
  },
  {
   "cell_type": "code",
   "execution_count": 1,
   "metadata": {
    "collapsed": true
   },
   "outputs": [],
   "source": [
    "import numpy as np\n",
    "import pandas as pd\n",
    "import glob,re,sys\n",
    "import matplotlib.pyplot as plt\n",
    "%matplotlib inline"
   ]
  },
  {
   "cell_type": "markdown",
   "metadata": {},
   "source": [
    "TomDLT implemented support for missing value imputation, but it doesn't look like it has been merged in yet so using it directly (https://github.com/scikit-learn/scikit-learn/pull/8474)"
   ]
  },
  {
   "cell_type": "code",
   "execution_count": 3,
   "metadata": {
    "collapsed": true
   },
   "outputs": [],
   "source": [
    "import nmf"
   ]
  },
  {
   "cell_type": "code",
   "execution_count": 4,
   "metadata": {
    "collapsed": true
   },
   "outputs": [],
   "source": [
    "randomtrain = pd.read_csv('chemble-splits/random.train')\n",
    "randomtest = pd.read_csv('chemble-splits/random.test')\n",
    "realtrain = pd.read_csv('chemble-splits/realistic.train')\n",
    "realtest = pd.read_csv('chemble-splits/realistic.test')"
   ]
  },
  {
   "cell_type": "code",
   "execution_count": 135,
   "metadata": {
    "collapsed": true
   },
   "outputs": [],
   "source": [
    "#map assay/cmpd ids to indices\n",
    "assayids = dict()\n",
    "cmpdids = dict()\n",
    "idx2cmpd = []\n",
    "idx2assay = []\n",
    "smiles = dict()\n",
    "for table in [randomtrain, randomtest, realtrain, realtest]: #presumably redundant\n",
    "    for r in table.iterrows():\n",
    "        if r[1].ID not in cmpdids:\n",
    "            smiles[len(cmpdids)] = r[1].smiles\n",
    "            cmpdids[r[1].ID] = len(cmpdids)\n",
    "            idx2cmpd.append(r[1].ID)\n",
    "            \n",
    "        if r[1].AssayID not in assayids:\n",
    "            assayids[r[1].AssayID] = len(assayids)\n",
    "            idx2assay.append(r[1].AssayID)"
   ]
  },
  {
   "cell_type": "code",
   "execution_count": 6,
   "metadata": {},
   "outputs": [
    {
     "data": {
      "text/plain": [
       "(13190, 159)"
      ]
     },
     "execution_count": 6,
     "metadata": {},
     "output_type": "execute_result"
    }
   ],
   "source": [
    "len(cmpdids),len(assayids)"
   ]
  },
  {
   "cell_type": "code",
   "execution_count": 7,
   "metadata": {
    "collapsed": true
   },
   "outputs": [],
   "source": [
    "def makematrix(data, cmpdids, assayids):\n",
    "    ret = np.full((len(cmpdids),len(assayids)),np.nan)\n",
    "    for (rid, row) in data.iterrows():\n",
    "        r = cmpdids[row.ID]\n",
    "        c = assayids[row.AssayID]\n",
    "        ret[r][c] = row.pIC50_exp\n",
    "    return ret"
   ]
  },
  {
   "cell_type": "code",
   "execution_count": 8,
   "metadata": {
    "collapsed": true
   },
   "outputs": [],
   "source": [
    "randomtrain_m = makematrix(randomtrain,cmpdids,assayids)\n",
    "realtrain_m = makematrix(realtrain,cmpdids,assayids)"
   ]
  },
  {
   "cell_type": "code",
   "execution_count": 9,
   "metadata": {},
   "outputs": [
    {
     "name": "stderr",
     "output_type": "stream",
     "text": [
      "nmf.py:1169: ConvergenceWarning: Maximum number of iteration 300 reached. Increase it to improve convergence.\n",
      "  \" improve convergence.\" % max_iter, ConvergenceWarning)\n"
     ]
    }
   ],
   "source": [
    "#let's see what happens with the defaults\n",
    "model = nmf.NMF(solver='mu',max_iter=300) #mu required for missing value support\n",
    "W = model.fit_transform(randomtrain_m)\n",
    "H = model.components_"
   ]
  },
  {
   "cell_type": "code",
   "execution_count": 10,
   "metadata": {},
   "outputs": [
    {
     "data": {
      "text/plain": [
       "((13190, 159), (159, 159))"
      ]
     },
     "execution_count": 10,
     "metadata": {},
     "output_type": "execute_result"
    }
   ],
   "source": [
    "W.shape,H.shape"
   ]
  },
  {
   "cell_type": "code",
   "execution_count": 11,
   "metadata": {
    "collapsed": true
   },
   "outputs": [],
   "source": [
    "def getpred(pred, data, cmpdids, assayids):\n",
    "    '''return tuples of (true value, predicted value)'''    \n",
    "    ret = []\n",
    "    for (ri, row) in data.iterrows():\n",
    "        i = cmpdids[row.ID]\n",
    "        j = assayids[row.AssayID]\n",
    "        pval = pred[i][j]\n",
    "        ret.append((row.pIC50_exp,pval))\n",
    "    return np.array(ret)"
   ]
  },
  {
   "cell_type": "code",
   "execution_count": 12,
   "metadata": {
    "collapsed": true
   },
   "outputs": [],
   "source": [
    "pred = np.matmul(W,H)\n",
    "trainpred = getpred(pred,randomtrain, cmpdids, assayids)\n",
    "testpred = getpred(pred,randomtest,cmpdids,assayids)"
   ]
  },
  {
   "cell_type": "code",
   "execution_count": 13,
   "metadata": {},
   "outputs": [
    {
     "name": "stdout",
     "output_type": "stream",
     "text": [
      "Pearson R, train = 0.994737159732 test = 0.324396923029\n"
     ]
    }
   ],
   "source": [
    "print \"Pearson R, train =\",np.corrcoef(trainpred.T)[0][1],\"test =\",np.corrcoef(testpred.T)[0][1]"
   ]
  },
  {
   "cell_type": "markdown",
   "metadata": {},
   "source": [
    "Clearly we are overfitting.."
   ]
  },
  {
   "cell_type": "code",
   "execution_count": 14,
   "metadata": {},
   "outputs": [
    {
     "data": {
      "text/plain": [
       "(0, 12)"
      ]
     },
     "execution_count": 14,
     "metadata": {},
     "output_type": "execute_result"
    },
    {
     "data": {
      "image/png": "[encoded data removed]",
      "text/plain": [
       "<matplotlib.figure.Figure at 0x7f1ac6140d10>"
      ]
     },
     "metadata": {},
     "output_type": "display_data"
    }
   ],
   "source": [
    "fig = plt.figure(figsize=(8,4))\n",
    "ax = plt.subplot(1,2,1)\n",
    "ax.plot(trainpred[:,0],trainpred[:,1],'o',alpha=.1,markeredgewidth=0)\n",
    "ax.set_aspect('equal')\n",
    "ax.set_xlabel('Experimental')\n",
    "ax.set_ylabel('Predicted')\n",
    "ax.set_title(\"Training Set\")\n",
    "ax.set_ylim(0,12)\n",
    "ax.set_xlim(0,12)\n",
    "\n",
    "ax = plt.subplot(1,2,2)\n",
    "ax.plot(testpred[:,0],testpred[:,1],'o',alpha=.1,markeredgewidth=0)\n",
    "ax.set_aspect('equal')\n",
    "ax.set_xlabel('Experimental')\n",
    "ax.set_title(\"Test Set\")\n",
    "ax.set_ylim(0,12)\n",
    "ax.set_xlim(0,12)"
   ]
  },
  {
   "cell_type": "markdown",
   "metadata": {},
   "source": [
    "Huh, so actually if you remove the zero-predicted values it's not so bad..."
   ]
  },
  {
   "cell_type": "code",
   "execution_count": 15,
   "metadata": {},
   "outputs": [
    {
     "name": "stdout",
     "output_type": "stream",
     "text": [
      "Pearson R = 0.692473840019 RMSE 0.646768095053\n"
     ]
    }
   ],
   "source": [
    "from sklearn.metrics import mean_squared_error\n",
    "testnotzero = testpred[testpred[:,1] > 0]\n",
    "print \"Pearson R =\",np.corrcoef(testnotzero.T)[0][1],\"RMSE\", mean_squared_error(testnotzero[:,0],testnotzero[:,1])"
   ]
  },
  {
   "cell_type": "markdown",
   "metadata": {},
   "source": [
    "90% are non-zero"
   ]
  },
  {
   "cell_type": "code",
   "execution_count": 16,
   "metadata": {},
   "outputs": [
    {
     "data": {
      "text/plain": [
       "0.9007293639105126"
      ]
     },
     "execution_count": 16,
     "metadata": {},
     "output_type": "execute_result"
    }
   ],
   "source": [
    "len(testnotzero)/float(len(testpred))"
   ]
  },
  {
   "cell_type": "markdown",
   "metadata": {},
   "source": [
    "So what happens if we optimize the model parameters?\n",
    " * *alpha* - amount of regularization (default 0)\n",
    " * *l1_ratio* - L1 vs L2 ratio, default 0 is all L2\n",
    " * *n_components* - number of components (default all) "
   ]
  },
  {
   "cell_type": "code",
   "execution_count": 17,
   "metadata": {},
   "outputs": [
    {
     "name": "stderr",
     "output_type": "stream",
     "text": [
      "nmf.py:1169: ConvergenceWarning: Maximum number of iteration 200 reached. Increase it to improve convergence.\n",
      "  \" improve convergence.\" % max_iter, ConvergenceWarning)\n"
     ]
    }
   ],
   "source": [
    "#this takes a loooong time despite being a rather course grid search\n",
    "results = []\n",
    "for alpha in [0,0.01,1]:\n",
    "    for l1_ratio in [0,0.5,1]:\n",
    "            for ncomponents in range(9,160,10):\n",
    "                model = nmf.NMF(solver='mu',alpha=alpha,l1_ratio=l1_ratio,n_components=ncomponents,init='random')\n",
    "                W = model.fit_transform(randomtrain_m)\n",
    "                H = model.components_\n",
    "                pred = np.matmul(W,H)\n",
    "                trainpred = getpred(pred,randomtrain, cmpdids, assayids)\n",
    "                testpred = getpred(pred,randomtest,cmpdids,assayids)\n",
    "                testnotzero = testpred[testpred[:,1] > 0]\n",
    "                trainR = np.corrcoef(trainpred.T)[0][1]\n",
    "                testR = np.corrcoef(testpred.T)[0][1]\n",
    "                testRnz = np.corrcoef(testnotzero.T)[0][1]\n",
    "\n",
    "                trainRMS = mean_squared_error(trainpred[:,0],trainpred[:,1])\n",
    "                testRMS = mean_squared_error(testpred[:,0],testpred[:,1])\n",
    "                testRMSnz = mean_squared_error(testnotzero[:,0],testnotzero[:,1])\n",
    "                results.append((alpha,l1_ratio,ncomponents,trainR,trainRMS, testR,testRMS, testRnz,testRMSnz))\n",
    "                "
   ]
  },
  {
   "cell_type": "code",
   "execution_count": 18,
   "metadata": {
    "collapsed": true
   },
   "outputs": [],
   "source": [
    "gridres = pd.DataFrame(results,columns=['alpha','l1_ratio','ncomponents','trainR','trainRMS','testR','testRMS','testRnz','testRMSnz'])"
   ]
  },
  {
   "cell_type": "code",
   "execution_count": 19,
   "metadata": {
    "scrolled": true
   },
   "outputs": [
    {
     "data": {
      "text/html": [
       "<div>\n",
       "<table border=\"1\" class=\"dataframe\">\n",
       "  <thead>\n",
       "    <tr style=\"text-align: right;\">\n",
       "      <th></th>\n",
       "      <th>alpha</th>\n",
       "      <th>l1_ratio</th>\n",
       "      <th>ncomponents</th>\n",
       "      <th>trainR</th>\n",
       "      <th>trainRMS</th>\n",
       "      <th>testR</th>\n",
       "      <th>testRMS</th>\n",
       "      <th>testRnz</th>\n",
       "      <th>testRMSnz</th>\n",
       "    </tr>\n",
       "  </thead>\n",
       "  <tbody>\n",
       "    <tr>\n",
       "      <th>33</th>\n",
       "      <td>0.00</td>\n",
       "      <td>1.0</td>\n",
       "      <td>19</td>\n",
       "      <td>0.895699</td>\n",
       "      <td>0.222356</td>\n",
       "      <td>0.346864</td>\n",
       "      <td>3.135285</td>\n",
       "      <td>0.747117</td>\n",
       "      <td>0.525983</td>\n",
       "    </tr>\n",
       "    <tr>\n",
       "      <th>49</th>\n",
       "      <td>0.01</td>\n",
       "      <td>0.0</td>\n",
       "      <td>19</td>\n",
       "      <td>0.893582</td>\n",
       "      <td>0.226648</td>\n",
       "      <td>0.345039</td>\n",
       "      <td>3.135138</td>\n",
       "      <td>0.746179</td>\n",
       "      <td>0.525821</td>\n",
       "    </tr>\n",
       "    <tr>\n",
       "      <th>48</th>\n",
       "      <td>0.01</td>\n",
       "      <td>0.0</td>\n",
       "      <td>9</td>\n",
       "      <td>0.850361</td>\n",
       "      <td>0.311262</td>\n",
       "      <td>0.332489</td>\n",
       "      <td>3.132146</td>\n",
       "      <td>0.742896</td>\n",
       "      <td>0.522500</td>\n",
       "    </tr>\n",
       "    <tr>\n",
       "      <th>1</th>\n",
       "      <td>0.00</td>\n",
       "      <td>0.0</td>\n",
       "      <td>19</td>\n",
       "      <td>0.895701</td>\n",
       "      <td>0.222368</td>\n",
       "      <td>0.345210</td>\n",
       "      <td>3.147435</td>\n",
       "      <td>0.741012</td>\n",
       "      <td>0.539474</td>\n",
       "    </tr>\n",
       "    <tr>\n",
       "      <th>80</th>\n",
       "      <td>0.01</td>\n",
       "      <td>1.0</td>\n",
       "      <td>9</td>\n",
       "      <td>0.855507</td>\n",
       "      <td>0.301422</td>\n",
       "      <td>0.336278</td>\n",
       "      <td>3.139376</td>\n",
       "      <td>0.740702</td>\n",
       "      <td>0.530526</td>\n",
       "    </tr>\n",
       "    <tr>\n",
       "      <th>64</th>\n",
       "      <td>0.01</td>\n",
       "      <td>0.5</td>\n",
       "      <td>9</td>\n",
       "      <td>0.849831</td>\n",
       "      <td>0.312333</td>\n",
       "      <td>0.329542</td>\n",
       "      <td>3.137647</td>\n",
       "      <td>0.739275</td>\n",
       "      <td>0.528607</td>\n",
       "    </tr>\n",
       "    <tr>\n",
       "      <th>17</th>\n",
       "      <td>0.00</td>\n",
       "      <td>0.5</td>\n",
       "      <td>19</td>\n",
       "      <td>0.893706</td>\n",
       "      <td>0.226390</td>\n",
       "      <td>0.342050</td>\n",
       "      <td>3.153485</td>\n",
       "      <td>0.737213</td>\n",
       "      <td>0.546189</td>\n",
       "    </tr>\n",
       "    <tr>\n",
       "      <th>97</th>\n",
       "      <td>1.00</td>\n",
       "      <td>0.0</td>\n",
       "      <td>19</td>\n",
       "      <td>0.894979</td>\n",
       "      <td>0.224257</td>\n",
       "      <td>0.339735</td>\n",
       "      <td>3.150319</td>\n",
       "      <td>0.737016</td>\n",
       "      <td>0.542674</td>\n",
       "    </tr>\n",
       "    <tr>\n",
       "      <th>96</th>\n",
       "      <td>1.00</td>\n",
       "      <td>0.0</td>\n",
       "      <td>9</td>\n",
       "      <td>0.852044</td>\n",
       "      <td>0.308320</td>\n",
       "      <td>0.330037</td>\n",
       "      <td>3.143666</td>\n",
       "      <td>0.736429</td>\n",
       "      <td>0.535289</td>\n",
       "    </tr>\n",
       "    <tr>\n",
       "      <th>32</th>\n",
       "      <td>0.00</td>\n",
       "      <td>1.0</td>\n",
       "      <td>9</td>\n",
       "      <td>0.848983</td>\n",
       "      <td>0.313920</td>\n",
       "      <td>0.330449</td>\n",
       "      <td>3.146433</td>\n",
       "      <td>0.735574</td>\n",
       "      <td>0.538361</td>\n",
       "    </tr>\n",
       "    <tr>\n",
       "      <th>18</th>\n",
       "      <td>0.00</td>\n",
       "      <td>0.5</td>\n",
       "      <td>29</td>\n",
       "      <td>0.920059</td>\n",
       "      <td>0.172747</td>\n",
       "      <td>0.346685</td>\n",
       "      <td>3.163387</td>\n",
       "      <td>0.735183</td>\n",
       "      <td>0.557183</td>\n",
       "    </tr>\n",
       "    <tr>\n",
       "      <th>2</th>\n",
       "      <td>0.00</td>\n",
       "      <td>0.0</td>\n",
       "      <td>29</td>\n",
       "      <td>0.918363</td>\n",
       "      <td>0.176278</td>\n",
       "      <td>0.345361</td>\n",
       "      <td>3.163147</td>\n",
       "      <td>0.734866</td>\n",
       "      <td>0.556916</td>\n",
       "    </tr>\n",
       "    <tr>\n",
       "      <th>34</th>\n",
       "      <td>0.00</td>\n",
       "      <td>1.0</td>\n",
       "      <td>29</td>\n",
       "      <td>0.919058</td>\n",
       "      <td>0.174839</td>\n",
       "      <td>0.346446</td>\n",
       "      <td>3.165131</td>\n",
       "      <td>0.734457</td>\n",
       "      <td>0.559120</td>\n",
       "    </tr>\n",
       "    <tr>\n",
       "      <th>65</th>\n",
       "      <td>0.01</td>\n",
       "      <td>0.5</td>\n",
       "      <td>19</td>\n",
       "      <td>0.894159</td>\n",
       "      <td>0.225470</td>\n",
       "      <td>0.344490</td>\n",
       "      <td>3.161916</td>\n",
       "      <td>0.734154</td>\n",
       "      <td>0.555550</td>\n",
       "    </tr>\n",
       "    <tr>\n",
       "      <th>82</th>\n",
       "      <td>0.01</td>\n",
       "      <td>1.0</td>\n",
       "      <td>29</td>\n",
       "      <td>0.920634</td>\n",
       "      <td>0.171517</td>\n",
       "      <td>0.350296</td>\n",
       "      <td>3.171788</td>\n",
       "      <td>0.732971</td>\n",
       "      <td>0.566510</td>\n",
       "    </tr>\n",
       "    <tr>\n",
       "      <th>0</th>\n",
       "      <td>0.00</td>\n",
       "      <td>0.0</td>\n",
       "      <td>9</td>\n",
       "      <td>0.847271</td>\n",
       "      <td>0.317194</td>\n",
       "      <td>0.326232</td>\n",
       "      <td>3.149305</td>\n",
       "      <td>0.732660</td>\n",
       "      <td>0.541549</td>\n",
       "    </tr>\n",
       "    <tr>\n",
       "      <th>81</th>\n",
       "      <td>0.01</td>\n",
       "      <td>1.0</td>\n",
       "      <td>19</td>\n",
       "      <td>0.896195</td>\n",
       "      <td>0.221363</td>\n",
       "      <td>0.345225</td>\n",
       "      <td>3.166788</td>\n",
       "      <td>0.732510</td>\n",
       "      <td>0.560959</td>\n",
       "    </tr>\n",
       "    <tr>\n",
       "      <th>50</th>\n",
       "      <td>0.01</td>\n",
       "      <td>0.0</td>\n",
       "      <td>29</td>\n",
       "      <td>0.920838</td>\n",
       "      <td>0.171129</td>\n",
       "      <td>0.345396</td>\n",
       "      <td>3.169714</td>\n",
       "      <td>0.731548</td>\n",
       "      <td>0.564207</td>\n",
       "    </tr>\n",
       "    <tr>\n",
       "      <th>66</th>\n",
       "      <td>0.01</td>\n",
       "      <td>0.5</td>\n",
       "      <td>29</td>\n",
       "      <td>0.920236</td>\n",
       "      <td>0.172352</td>\n",
       "      <td>0.348442</td>\n",
       "      <td>3.174931</td>\n",
       "      <td>0.730890</td>\n",
       "      <td>0.570000</td>\n",
       "    </tr>\n",
       "    <tr>\n",
       "      <th>16</th>\n",
       "      <td>0.00</td>\n",
       "      <td>0.5</td>\n",
       "      <td>9</td>\n",
       "      <td>0.847957</td>\n",
       "      <td>0.315863</td>\n",
       "      <td>0.329744</td>\n",
       "      <td>3.157376</td>\n",
       "      <td>0.730274</td>\n",
       "      <td>0.550509</td>\n",
       "    </tr>\n",
       "    <tr>\n",
       "      <th>35</th>\n",
       "      <td>0.00</td>\n",
       "      <td>1.0</td>\n",
       "      <td>39</td>\n",
       "      <td>0.937626</td>\n",
       "      <td>0.136127</td>\n",
       "      <td>0.347141</td>\n",
       "      <td>3.180190</td>\n",
       "      <td>0.728881</td>\n",
       "      <td>0.575838</td>\n",
       "    </tr>\n",
       "    <tr>\n",
       "      <th>98</th>\n",
       "      <td>1.00</td>\n",
       "      <td>0.0</td>\n",
       "      <td>29</td>\n",
       "      <td>0.921687</td>\n",
       "      <td>0.169915</td>\n",
       "      <td>0.340712</td>\n",
       "      <td>3.172598</td>\n",
       "      <td>0.727833</td>\n",
       "      <td>0.567409</td>\n",
       "    </tr>\n",
       "    <tr>\n",
       "      <th>51</th>\n",
       "      <td>0.01</td>\n",
       "      <td>0.0</td>\n",
       "      <td>39</td>\n",
       "      <td>0.935472</td>\n",
       "      <td>0.140701</td>\n",
       "      <td>0.345465</td>\n",
       "      <td>3.180035</td>\n",
       "      <td>0.727559</td>\n",
       "      <td>0.575666</td>\n",
       "    </tr>\n",
       "    <tr>\n",
       "      <th>36</th>\n",
       "      <td>0.00</td>\n",
       "      <td>1.0</td>\n",
       "      <td>49</td>\n",
       "      <td>0.947283</td>\n",
       "      <td>0.115744</td>\n",
       "      <td>0.344333</td>\n",
       "      <td>3.187935</td>\n",
       "      <td>0.724675</td>\n",
       "      <td>0.584437</td>\n",
       "    </tr>\n",
       "    <tr>\n",
       "      <th>3</th>\n",
       "      <td>0.00</td>\n",
       "      <td>0.0</td>\n",
       "      <td>39</td>\n",
       "      <td>0.935184</td>\n",
       "      <td>0.141276</td>\n",
       "      <td>0.343032</td>\n",
       "      <td>3.187407</td>\n",
       "      <td>0.724029</td>\n",
       "      <td>0.583850</td>\n",
       "    </tr>\n",
       "    <tr>\n",
       "      <th>20</th>\n",
       "      <td>0.00</td>\n",
       "      <td>0.5</td>\n",
       "      <td>49</td>\n",
       "      <td>0.948551</td>\n",
       "      <td>0.113000</td>\n",
       "      <td>0.343769</td>\n",
       "      <td>3.189260</td>\n",
       "      <td>0.723665</td>\n",
       "      <td>0.585907</td>\n",
       "    </tr>\n",
       "    <tr>\n",
       "      <th>19</th>\n",
       "      <td>0.00</td>\n",
       "      <td>0.5</td>\n",
       "      <td>39</td>\n",
       "      <td>0.936351</td>\n",
       "      <td>0.138829</td>\n",
       "      <td>0.342609</td>\n",
       "      <td>3.194305</td>\n",
       "      <td>0.721065</td>\n",
       "      <td>0.591509</td>\n",
       "    </tr>\n",
       "    <tr>\n",
       "      <th>67</th>\n",
       "      <td>0.01</td>\n",
       "      <td>0.5</td>\n",
       "      <td>39</td>\n",
       "      <td>0.934775</td>\n",
       "      <td>0.142147</td>\n",
       "      <td>0.345633</td>\n",
       "      <td>3.198792</td>\n",
       "      <td>0.719994</td>\n",
       "      <td>0.596491</td>\n",
       "    </tr>\n",
       "    <tr>\n",
       "      <th>4</th>\n",
       "      <td>0.00</td>\n",
       "      <td>0.0</td>\n",
       "      <td>49</td>\n",
       "      <td>0.947843</td>\n",
       "      <td>0.114524</td>\n",
       "      <td>0.342492</td>\n",
       "      <td>3.198172</td>\n",
       "      <td>0.719607</td>\n",
       "      <td>0.595802</td>\n",
       "    </tr>\n",
       "    <tr>\n",
       "      <th>83</th>\n",
       "      <td>0.01</td>\n",
       "      <td>1.0</td>\n",
       "      <td>39</td>\n",
       "      <td>0.936191</td>\n",
       "      <td>0.139150</td>\n",
       "      <td>0.344863</td>\n",
       "      <td>3.201359</td>\n",
       "      <td>0.718625</td>\n",
       "      <td>0.599340</td>\n",
       "    </tr>\n",
       "    <tr>\n",
       "      <th>...</th>\n",
       "      <td>...</td>\n",
       "      <td>...</td>\n",
       "      <td>...</td>\n",
       "      <td>...</td>\n",
       "      <td>...</td>\n",
       "      <td>...</td>\n",
       "      <td>...</td>\n",
       "      <td>...</td>\n",
       "      <td>...</td>\n",
       "    </tr>\n",
       "    <tr>\n",
       "      <th>115</th>\n",
       "      <td>1.00</td>\n",
       "      <td>0.5</td>\n",
       "      <td>39</td>\n",
       "      <td>0.935456</td>\n",
       "      <td>0.141033</td>\n",
       "      <td>0.327962</td>\n",
       "      <td>3.346339</td>\n",
       "      <td>0.658041</td>\n",
       "      <td>0.760299</td>\n",
       "    </tr>\n",
       "    <tr>\n",
       "      <th>93</th>\n",
       "      <td>0.01</td>\n",
       "      <td>1.0</td>\n",
       "      <td>139</td>\n",
       "      <td>0.985955</td>\n",
       "      <td>0.031723</td>\n",
       "      <td>0.310969</td>\n",
       "      <td>3.311645</td>\n",
       "      <td>0.657542</td>\n",
       "      <td>0.721781</td>\n",
       "    </tr>\n",
       "    <tr>\n",
       "      <th>114</th>\n",
       "      <td>1.00</td>\n",
       "      <td>0.5</td>\n",
       "      <td>29</td>\n",
       "      <td>0.919374</td>\n",
       "      <td>0.174393</td>\n",
       "      <td>0.329715</td>\n",
       "      <td>3.357087</td>\n",
       "      <td>0.656157</td>\n",
       "      <td>0.772232</td>\n",
       "    </tr>\n",
       "    <tr>\n",
       "      <th>117</th>\n",
       "      <td>1.00</td>\n",
       "      <td>0.5</td>\n",
       "      <td>59</td>\n",
       "      <td>0.956432</td>\n",
       "      <td>0.096662</td>\n",
       "      <td>0.323515</td>\n",
       "      <td>3.372277</td>\n",
       "      <td>0.647074</td>\n",
       "      <td>0.789095</td>\n",
       "    </tr>\n",
       "    <tr>\n",
       "      <th>129</th>\n",
       "      <td>1.00</td>\n",
       "      <td>1.0</td>\n",
       "      <td>19</td>\n",
       "      <td>0.892514</td>\n",
       "      <td>0.228768</td>\n",
       "      <td>0.331581</td>\n",
       "      <td>3.399746</td>\n",
       "      <td>0.645670</td>\n",
       "      <td>0.819592</td>\n",
       "    </tr>\n",
       "    <tr>\n",
       "      <th>118</th>\n",
       "      <td>1.00</td>\n",
       "      <td>0.5</td>\n",
       "      <td>69</td>\n",
       "      <td>0.963748</td>\n",
       "      <td>0.080946</td>\n",
       "      <td>0.325469</td>\n",
       "      <td>3.392560</td>\n",
       "      <td>0.642819</td>\n",
       "      <td>0.811614</td>\n",
       "    </tr>\n",
       "    <tr>\n",
       "      <th>116</th>\n",
       "      <td>1.00</td>\n",
       "      <td>0.5</td>\n",
       "      <td>49</td>\n",
       "      <td>0.946642</td>\n",
       "      <td>0.117530</td>\n",
       "      <td>0.324986</td>\n",
       "      <td>3.392766</td>\n",
       "      <td>0.642271</td>\n",
       "      <td>0.811842</td>\n",
       "    </tr>\n",
       "    <tr>\n",
       "      <th>119</th>\n",
       "      <td>1.00</td>\n",
       "      <td>0.5</td>\n",
       "      <td>79</td>\n",
       "      <td>0.968994</td>\n",
       "      <td>0.069629</td>\n",
       "      <td>0.314495</td>\n",
       "      <td>3.432953</td>\n",
       "      <td>0.622861</td>\n",
       "      <td>0.856458</td>\n",
       "    </tr>\n",
       "    <tr>\n",
       "      <th>130</th>\n",
       "      <td>1.00</td>\n",
       "      <td>1.0</td>\n",
       "      <td>29</td>\n",
       "      <td>0.917900</td>\n",
       "      <td>0.177197</td>\n",
       "      <td>0.325697</td>\n",
       "      <td>3.476293</td>\n",
       "      <td>0.621325</td>\n",
       "      <td>0.904575</td>\n",
       "    </tr>\n",
       "    <tr>\n",
       "      <th>120</th>\n",
       "      <td>1.00</td>\n",
       "      <td>0.5</td>\n",
       "      <td>89</td>\n",
       "      <td>0.972602</td>\n",
       "      <td>0.061808</td>\n",
       "      <td>0.311221</td>\n",
       "      <td>3.438495</td>\n",
       "      <td>0.618915</td>\n",
       "      <td>0.862611</td>\n",
       "    </tr>\n",
       "    <tr>\n",
       "      <th>121</th>\n",
       "      <td>1.00</td>\n",
       "      <td>0.5</td>\n",
       "      <td>99</td>\n",
       "      <td>0.977525</td>\n",
       "      <td>0.050974</td>\n",
       "      <td>0.310615</td>\n",
       "      <td>3.441682</td>\n",
       "      <td>0.617628</td>\n",
       "      <td>0.866150</td>\n",
       "    </tr>\n",
       "    <tr>\n",
       "      <th>122</th>\n",
       "      <td>1.00</td>\n",
       "      <td>0.5</td>\n",
       "      <td>109</td>\n",
       "      <td>0.980366</td>\n",
       "      <td>0.044745</td>\n",
       "      <td>0.303252</td>\n",
       "      <td>3.458656</td>\n",
       "      <td>0.607186</td>\n",
       "      <td>0.884994</td>\n",
       "    </tr>\n",
       "    <tr>\n",
       "      <th>123</th>\n",
       "      <td>1.00</td>\n",
       "      <td>0.5</td>\n",
       "      <td>119</td>\n",
       "      <td>0.981939</td>\n",
       "      <td>0.041325</td>\n",
       "      <td>0.302909</td>\n",
       "      <td>3.461997</td>\n",
       "      <td>0.605855</td>\n",
       "      <td>0.888703</td>\n",
       "    </tr>\n",
       "    <tr>\n",
       "      <th>126</th>\n",
       "      <td>1.00</td>\n",
       "      <td>0.5</td>\n",
       "      <td>149</td>\n",
       "      <td>0.987361</td>\n",
       "      <td>0.029342</td>\n",
       "      <td>0.301290</td>\n",
       "      <td>3.488411</td>\n",
       "      <td>0.598258</td>\n",
       "      <td>0.918029</td>\n",
       "    </tr>\n",
       "    <tr>\n",
       "      <th>125</th>\n",
       "      <td>1.00</td>\n",
       "      <td>0.5</td>\n",
       "      <td>139</td>\n",
       "      <td>0.985989</td>\n",
       "      <td>0.032377</td>\n",
       "      <td>0.299395</td>\n",
       "      <td>3.490091</td>\n",
       "      <td>0.596007</td>\n",
       "      <td>0.919894</td>\n",
       "    </tr>\n",
       "    <tr>\n",
       "      <th>127</th>\n",
       "      <td>1.00</td>\n",
       "      <td>0.5</td>\n",
       "      <td>159</td>\n",
       "      <td>0.988486</td>\n",
       "      <td>0.026840</td>\n",
       "      <td>0.298023</td>\n",
       "      <td>3.508337</td>\n",
       "      <td>0.590879</td>\n",
       "      <td>0.940151</td>\n",
       "    </tr>\n",
       "    <tr>\n",
       "      <th>134</th>\n",
       "      <td>1.00</td>\n",
       "      <td>1.0</td>\n",
       "      <td>69</td>\n",
       "      <td>0.963009</td>\n",
       "      <td>0.082102</td>\n",
       "      <td>0.316388</td>\n",
       "      <td>3.576584</td>\n",
       "      <td>0.590570</td>\n",
       "      <td>1.015920</td>\n",
       "    </tr>\n",
       "    <tr>\n",
       "      <th>132</th>\n",
       "      <td>1.00</td>\n",
       "      <td>1.0</td>\n",
       "      <td>49</td>\n",
       "      <td>0.947495</td>\n",
       "      <td>0.115303</td>\n",
       "      <td>0.317010</td>\n",
       "      <td>3.604824</td>\n",
       "      <td>0.585471</td>\n",
       "      <td>1.047271</td>\n",
       "    </tr>\n",
       "    <tr>\n",
       "      <th>124</th>\n",
       "      <td>1.00</td>\n",
       "      <td>0.5</td>\n",
       "      <td>129</td>\n",
       "      <td>0.983968</td>\n",
       "      <td>0.036853</td>\n",
       "      <td>0.297039</td>\n",
       "      <td>3.523279</td>\n",
       "      <td>0.585399</td>\n",
       "      <td>0.956739</td>\n",
       "    </tr>\n",
       "    <tr>\n",
       "      <th>131</th>\n",
       "      <td>1.00</td>\n",
       "      <td>1.0</td>\n",
       "      <td>39</td>\n",
       "      <td>0.934688</td>\n",
       "      <td>0.142324</td>\n",
       "      <td>0.316505</td>\n",
       "      <td>3.648963</td>\n",
       "      <td>0.576676</td>\n",
       "      <td>1.096275</td>\n",
       "    </tr>\n",
       "    <tr>\n",
       "      <th>133</th>\n",
       "      <td>1.00</td>\n",
       "      <td>1.0</td>\n",
       "      <td>59</td>\n",
       "      <td>0.955120</td>\n",
       "      <td>0.099065</td>\n",
       "      <td>0.303732</td>\n",
       "      <td>3.665597</td>\n",
       "      <td>0.560681</td>\n",
       "      <td>1.114743</td>\n",
       "    </tr>\n",
       "    <tr>\n",
       "      <th>137</th>\n",
       "      <td>1.00</td>\n",
       "      <td>1.0</td>\n",
       "      <td>99</td>\n",
       "      <td>0.976668</td>\n",
       "      <td>0.052441</td>\n",
       "      <td>0.297650</td>\n",
       "      <td>3.650420</td>\n",
       "      <td>0.557765</td>\n",
       "      <td>1.097892</td>\n",
       "    </tr>\n",
       "    <tr>\n",
       "      <th>135</th>\n",
       "      <td>1.00</td>\n",
       "      <td>1.0</td>\n",
       "      <td>79</td>\n",
       "      <td>0.968679</td>\n",
       "      <td>0.069850</td>\n",
       "      <td>0.304022</td>\n",
       "      <td>3.694421</td>\n",
       "      <td>0.555806</td>\n",
       "      <td>1.146743</td>\n",
       "    </tr>\n",
       "    <tr>\n",
       "      <th>139</th>\n",
       "      <td>1.00</td>\n",
       "      <td>1.0</td>\n",
       "      <td>119</td>\n",
       "      <td>0.982863</td>\n",
       "      <td>0.038827</td>\n",
       "      <td>0.288907</td>\n",
       "      <td>3.657175</td>\n",
       "      <td>0.548217</td>\n",
       "      <td>1.105392</td>\n",
       "    </tr>\n",
       "    <tr>\n",
       "      <th>136</th>\n",
       "      <td>1.00</td>\n",
       "      <td>1.0</td>\n",
       "      <td>89</td>\n",
       "      <td>0.973872</td>\n",
       "      <td>0.058498</td>\n",
       "      <td>0.295859</td>\n",
       "      <td>3.724207</td>\n",
       "      <td>0.542355</td>\n",
       "      <td>1.179812</td>\n",
       "    </tr>\n",
       "    <tr>\n",
       "      <th>138</th>\n",
       "      <td>1.00</td>\n",
       "      <td>1.0</td>\n",
       "      <td>109</td>\n",
       "      <td>0.980708</td>\n",
       "      <td>0.043553</td>\n",
       "      <td>0.294150</td>\n",
       "      <td>3.728847</td>\n",
       "      <td>0.540157</td>\n",
       "      <td>1.184963</td>\n",
       "    </tr>\n",
       "    <tr>\n",
       "      <th>140</th>\n",
       "      <td>1.00</td>\n",
       "      <td>1.0</td>\n",
       "      <td>129</td>\n",
       "      <td>0.984736</td>\n",
       "      <td>0.034717</td>\n",
       "      <td>0.291516</td>\n",
       "      <td>3.761248</td>\n",
       "      <td>0.532191</td>\n",
       "      <td>1.220935</td>\n",
       "    </tr>\n",
       "    <tr>\n",
       "      <th>143</th>\n",
       "      <td>1.00</td>\n",
       "      <td>1.0</td>\n",
       "      <td>159</td>\n",
       "      <td>0.988934</td>\n",
       "      <td>0.025518</td>\n",
       "      <td>0.285181</td>\n",
       "      <td>3.740926</td>\n",
       "      <td>0.529513</td>\n",
       "      <td>1.198374</td>\n",
       "    </tr>\n",
       "    <tr>\n",
       "      <th>141</th>\n",
       "      <td>1.00</td>\n",
       "      <td>1.0</td>\n",
       "      <td>139</td>\n",
       "      <td>0.986340</td>\n",
       "      <td>0.031196</td>\n",
       "      <td>0.284404</td>\n",
       "      <td>3.742751</td>\n",
       "      <td>0.528406</td>\n",
       "      <td>1.200400</td>\n",
       "    </tr>\n",
       "    <tr>\n",
       "      <th>142</th>\n",
       "      <td>1.00</td>\n",
       "      <td>1.0</td>\n",
       "      <td>149</td>\n",
       "      <td>0.988032</td>\n",
       "      <td>0.027464</td>\n",
       "      <td>0.283936</td>\n",
       "      <td>3.752612</td>\n",
       "      <td>0.526052</td>\n",
       "      <td>1.211347</td>\n",
       "    </tr>\n",
       "  </tbody>\n",
       "</table>\n",
       "<p>144 rows × 9 columns</p>\n",
       "</div>"
      ],
      "text/plain": [
       "     alpha  l1_ratio  ncomponents    trainR  trainRMS     testR   testRMS  \\\n",
       "33    0.00       1.0           19  0.895699  0.222356  0.346864  3.135285   \n",
       "49    0.01       0.0           19  0.893582  0.226648  0.345039  3.135138   \n",
       "48    0.01       0.0            9  0.850361  0.311262  0.332489  3.132146   \n",
       "1     0.00       0.0           19  0.895701  0.222368  0.345210  3.147435   \n",
       "80    0.01       1.0            9  0.855507  0.301422  0.336278  3.139376   \n",
       "64    0.01       0.5            9  0.849831  0.312333  0.329542  3.137647   \n",
       "17    0.00       0.5           19  0.893706  0.226390  0.342050  3.153485   \n",
       "97    1.00       0.0           19  0.894979  0.224257  0.339735  3.150319   \n",
       "96    1.00       0.0            9  0.852044  0.308320  0.330037  3.143666   \n",
       "32    0.00       1.0            9  0.848983  0.313920  0.330449  3.146433   \n",
       "18    0.00       0.5           29  0.920059  0.172747  0.346685  3.163387   \n",
       "2     0.00       0.0           29  0.918363  0.176278  0.345361  3.163147   \n",
       "34    0.00       1.0           29  0.919058  0.174839  0.346446  3.165131   \n",
       "65    0.01       0.5           19  0.894159  0.225470  0.344490  3.161916   \n",
       "82    0.01       1.0           29  0.920634  0.171517  0.350296  3.171788   \n",
       "0     0.00       0.0            9  0.847271  0.317194  0.326232  3.149305   \n",
       "81    0.01       1.0           19  0.896195  0.221363  0.345225  3.166788   \n",
       "50    0.01       0.0           29  0.920838  0.171129  0.345396  3.169714   \n",
       "66    0.01       0.5           29  0.920236  0.172352  0.348442  3.174931   \n",
       "16    0.00       0.5            9  0.847957  0.315863  0.329744  3.157376   \n",
       "35    0.00       1.0           39  0.937626  0.136127  0.347141  3.180190   \n",
       "98    1.00       0.0           29  0.921687  0.169915  0.340712  3.172598   \n",
       "51    0.01       0.0           39  0.935472  0.140701  0.345465  3.180035   \n",
       "36    0.00       1.0           49  0.947283  0.115744  0.344333  3.187935   \n",
       "3     0.00       0.0           39  0.935184  0.141276  0.343032  3.187407   \n",
       "20    0.00       0.5           49  0.948551  0.113000  0.343769  3.189260   \n",
       "19    0.00       0.5           39  0.936351  0.138829  0.342609  3.194305   \n",
       "67    0.01       0.5           39  0.934775  0.142147  0.345633  3.198792   \n",
       "4     0.00       0.0           49  0.947843  0.114524  0.342492  3.198172   \n",
       "83    0.01       1.0           39  0.936191  0.139150  0.344863  3.201359   \n",
       "..     ...       ...          ...       ...       ...       ...       ...   \n",
       "115   1.00       0.5           39  0.935456  0.141033  0.327962  3.346339   \n",
       "93    0.01       1.0          139  0.985955  0.031723  0.310969  3.311645   \n",
       "114   1.00       0.5           29  0.919374  0.174393  0.329715  3.357087   \n",
       "117   1.00       0.5           59  0.956432  0.096662  0.323515  3.372277   \n",
       "129   1.00       1.0           19  0.892514  0.228768  0.331581  3.399746   \n",
       "118   1.00       0.5           69  0.963748  0.080946  0.325469  3.392560   \n",
       "116   1.00       0.5           49  0.946642  0.117530  0.324986  3.392766   \n",
       "119   1.00       0.5           79  0.968994  0.069629  0.314495  3.432953   \n",
       "130   1.00       1.0           29  0.917900  0.177197  0.325697  3.476293   \n",
       "120   1.00       0.5           89  0.972602  0.061808  0.311221  3.438495   \n",
       "121   1.00       0.5           99  0.977525  0.050974  0.310615  3.441682   \n",
       "122   1.00       0.5          109  0.980366  0.044745  0.303252  3.458656   \n",
       "123   1.00       0.5          119  0.981939  0.041325  0.302909  3.461997   \n",
       "126   1.00       0.5          149  0.987361  0.029342  0.301290  3.488411   \n",
       "125   1.00       0.5          139  0.985989  0.032377  0.299395  3.490091   \n",
       "127   1.00       0.5          159  0.988486  0.026840  0.298023  3.508337   \n",
       "134   1.00       1.0           69  0.963009  0.082102  0.316388  3.576584   \n",
       "132   1.00       1.0           49  0.947495  0.115303  0.317010  3.604824   \n",
       "124   1.00       0.5          129  0.983968  0.036853  0.297039  3.523279   \n",
       "131   1.00       1.0           39  0.934688  0.142324  0.316505  3.648963   \n",
       "133   1.00       1.0           59  0.955120  0.099065  0.303732  3.665597   \n",
       "137   1.00       1.0           99  0.976668  0.052441  0.297650  3.650420   \n",
       "135   1.00       1.0           79  0.968679  0.069850  0.304022  3.694421   \n",
       "139   1.00       1.0          119  0.982863  0.038827  0.288907  3.657175   \n",
       "136   1.00       1.0           89  0.973872  0.058498  0.295859  3.724207   \n",
       "138   1.00       1.0          109  0.980708  0.043553  0.294150  3.728847   \n",
       "140   1.00       1.0          129  0.984736  0.034717  0.291516  3.761248   \n",
       "143   1.00       1.0          159  0.988934  0.025518  0.285181  3.740926   \n",
       "141   1.00       1.0          139  0.986340  0.031196  0.284404  3.742751   \n",
       "142   1.00       1.0          149  0.988032  0.027464  0.283936  3.752612   \n",
       "\n",
       "      testRnz  testRMSnz  \n",
       "33   0.747117   0.525983  \n",
       "49   0.746179   0.525821  \n",
       "48   0.742896   0.522500  \n",
       "1    0.741012   0.539474  \n",
       "80   0.740702   0.530526  \n",
       "64   0.739275   0.528607  \n",
       "17   0.737213   0.546189  \n",
       "97   0.737016   0.542674  \n",
       "96   0.736429   0.535289  \n",
       "32   0.735574   0.538361  \n",
       "18   0.735183   0.557183  \n",
       "2    0.734866   0.556916  \n",
       "34   0.734457   0.559120  \n",
       "65   0.734154   0.555550  \n",
       "82   0.732971   0.566510  \n",
       "0    0.732660   0.541549  \n",
       "81   0.732510   0.560959  \n",
       "50   0.731548   0.564207  \n",
       "66   0.730890   0.570000  \n",
       "16   0.730274   0.550509  \n",
       "35   0.728881   0.575838  \n",
       "98   0.727833   0.567409  \n",
       "51   0.727559   0.575666  \n",
       "36   0.724675   0.584437  \n",
       "3    0.724029   0.583850  \n",
       "20   0.723665   0.585907  \n",
       "19   0.721065   0.591509  \n",
       "67   0.719994   0.596491  \n",
       "4    0.719607   0.595802  \n",
       "83   0.718625   0.599340  \n",
       "..        ...        ...  \n",
       "115  0.658041   0.760299  \n",
       "93   0.657542   0.721781  \n",
       "114  0.656157   0.772232  \n",
       "117  0.647074   0.789095  \n",
       "129  0.645670   0.819592  \n",
       "118  0.642819   0.811614  \n",
       "116  0.642271   0.811842  \n",
       "119  0.622861   0.856458  \n",
       "130  0.621325   0.904575  \n",
       "120  0.618915   0.862611  \n",
       "121  0.617628   0.866150  \n",
       "122  0.607186   0.884994  \n",
       "123  0.605855   0.888703  \n",
       "126  0.598258   0.918029  \n",
       "125  0.596007   0.919894  \n",
       "127  0.590879   0.940151  \n",
       "134  0.590570   1.015920  \n",
       "132  0.585471   1.047271  \n",
       "124  0.585399   0.956739  \n",
       "131  0.576676   1.096275  \n",
       "133  0.560681   1.114743  \n",
       "137  0.557765   1.097892  \n",
       "135  0.555806   1.146743  \n",
       "139  0.548217   1.105392  \n",
       "136  0.542355   1.179812  \n",
       "138  0.540157   1.184963  \n",
       "140  0.532191   1.220935  \n",
       "143  0.529513   1.198374  \n",
       "141  0.528406   1.200400  \n",
       "142  0.526052   1.211347  \n",
       "\n",
       "[144 rows x 9 columns]"
      ]
     },
     "execution_count": 19,
     "metadata": {},
     "output_type": "execute_result"
    }
   ],
   "source": [
    "gridres.sort_values('testRnz',ascending=False)"
   ]
  },
  {
   "cell_type": "code",
   "execution_count": 20,
   "metadata": {},
   "outputs": [
    {
     "data": {
      "text/plain": [
       "<matplotlib.legend.Legend at 0x7f1b1a7d62d0>"
      ]
     },
     "execution_count": 20,
     "metadata": {},
     "output_type": "execute_result"
    },
    {
     "data": {
      "image/png": "[encoded data removed]",
      "text/plain": [
       "<matplotlib.figure.Figure at 0x7f1ac610d4d0>"
      ]
     },
     "metadata": {},
     "output_type": "display_data"
    }
   ],
   "source": [
    "plt.hist(gridres.testR,label=\"Pearson R\")\n",
    "plt.hist(gridres.testRnz,label=\"R excluding zeroes\")\n",
    "plt.legend(loc='best')"
   ]
  },
  {
   "cell_type": "markdown",
   "metadata": {},
   "source": [
    "Interestingly, the best models didn't use L1/L2 regularization (alpha=0) but had a limited number of components (which is probably also effective at preventing overfitting)."
   ]
  },
  {
   "cell_type": "code",
   "execution_count": 21,
   "metadata": {
    "collapsed": true
   },
   "outputs": [],
   "source": [
    "secondresults = []\n",
    "for ncomponents in range(5,60,5):\n",
    "    model = nmf.NMF(solver='mu',n_components=ncomponents,init='random')\n",
    "    W = model.fit_transform(randomtrain_m)\n",
    "    H = model.components_\n",
    "    pred = np.matmul(W,H)\n",
    "    trainpred = getpred(pred,randomtrain, cmpdids, assayids)\n",
    "    testpred = getpred(pred,randomtest,cmpdids,assayids)\n",
    "    testnotzero = testpred[testpred[:,1] > 0]\n",
    "    trainR = np.corrcoef(trainpred.T)[0][1]\n",
    "    testR = np.corrcoef(testpred.T)[0][1]\n",
    "    testRnz = np.corrcoef(testnotzero.T)[0][1]\n",
    "\n",
    "    trainRMS = mean_squared_error(trainpred[:,0],trainpred[:,1])\n",
    "    testRMS = mean_squared_error(testpred[:,0],testpred[:,1])\n",
    "    testRMSnz = mean_squared_error(testnotzero[:,0],testnotzero[:,1])\n",
    "    secondresults.append((ncomponents,trainR,trainRMS, testR,testRMS, testRnz,testRMSnz))"
   ]
  },
  {
   "cell_type": "code",
   "execution_count": 22,
   "metadata": {
    "collapsed": true
   },
   "outputs": [],
   "source": [
    "grid2res = pd.DataFrame(secondresults,columns=['ncomponents','trainR','trainRMS','testR','testRMS','testRnz','testRMSnz'])"
   ]
  },
  {
   "cell_type": "code",
   "execution_count": 176,
   "metadata": {},
   "outputs": [
    {
     "data": {
      "text/plain": [
       "<matplotlib.text.Text at 0x7f1ac408aed0>"
      ]
     },
     "execution_count": 176,
     "metadata": {},
     "output_type": "execute_result"
    },
    {
     "data": {
      "image/png": "[encoded data removed]",
      "text/plain": [
       "<matplotlib.figure.Figure at 0x7f1ac6172ad0>"
      ]
     },
     "metadata": {},
     "output_type": "display_data"
    }
   ],
   "source": [
    "plt.plot(grid2res.ncomponents,grid2res.testRnz,label='Excluding zeroes')\n",
    "plt.plot(grid2res.ncomponents,grid2res.testR,label='Test')\n",
    "plt.legend(loc='best')\n",
    "plt.xlabel('ncomponents')\n",
    "plt.ylabel('R')"
   ]
  },
  {
   "cell_type": "markdown",
   "metadata": {},
   "source": [
    "So something like 25 components for this dataset.. now let's see how we do with the realistic set."
   ]
  },
  {
   "cell_type": "code",
   "execution_count": 164,
   "metadata": {
    "collapsed": true
   },
   "outputs": [],
   "source": [
    "model = nmf.NMF(solver='mu',n_components=25,init='random')\n",
    "W = model.fit_transform(realtrain_m)\n",
    "H = model.components_\n",
    "pred = np.matmul(W,H)\n",
    "trainpred = getpred(pred,realtrain, cmpdids, assayids)\n",
    "testpred = getpred(pred,realtest,cmpdids,assayids)\n",
    "testnotzero = testpred[testpred[:,1] > 0]\n",
    "trainR = np.corrcoef(trainpred.T)[0][1]\n",
    "testR = np.corrcoef(testpred.T)[0][1]\n",
    "testRnz = np.corrcoef(testnotzero.T)[0][1]\n",
    "\n",
    "trainRMS = mean_squared_error(trainpred[:,0],trainpred[:,1])\n",
    "testRMS = mean_squared_error(testpred[:,0],testpred[:,1])\n",
    "testRMSnz = mean_squared_error(testnotzero[:,0],testnotzero[:,1])"
   ]
  },
  {
   "cell_type": "code",
   "execution_count": 25,
   "metadata": {},
   "outputs": [
    {
     "data": {
      "text/plain": [
       "(0, 12)"
      ]
     },
     "execution_count": 25,
     "metadata": {},
     "output_type": "execute_result"
    },
    {
     "data": {
      "image/png": "[encoded data removed]",
      "text/plain": [
       "<matplotlib.figure.Figure at 0x7f1ac3d7c9d0>"
      ]
     },
     "metadata": {},
     "output_type": "display_data"
    }
   ],
   "source": [
    "fig = plt.figure(figsize=(8,4))\n",
    "ax = plt.subplot(1,2,1)\n",
    "ax.plot(trainpred[:,0],trainpred[:,1],'o',alpha=.1,markeredgewidth=0)\n",
    "ax.set_aspect('equal')\n",
    "ax.set_xlabel('Experimental')\n",
    "ax.set_ylabel('Predicted')\n",
    "ax.set_title(\"Training Set\")\n",
    "ax.set_ylim(0,12)\n",
    "ax.set_xlim(0,12)\n",
    "\n",
    "ax = plt.subplot(1,2,2)\n",
    "ax.plot(testpred[:,0],testpred[:,1],'o',alpha=.1,markeredgewidth=0)\n",
    "ax.set_aspect('equal')\n",
    "ax.set_xlabel('Experimental')\n",
    "ax.set_title(\"Test Set\")\n",
    "ax.set_ylim(0,12)\n",
    "ax.set_xlim(0,12)"
   ]
  },
  {
   "cell_type": "code",
   "execution_count": 26,
   "metadata": {},
   "outputs": [
    {
     "name": "stdout",
     "output_type": "stream",
     "text": [
      "Pearson R = 0.465892248144 RMSE 0.965636203142\n"
     ]
    }
   ],
   "source": [
    "print \"Pearson R =\",np.corrcoef(testnotzero.T)[0][1],\"RMSE\", mean_squared_error(testnotzero[:,0],testnotzero[:,1])"
   ]
  },
  {
   "cell_type": "code",
   "execution_count": 27,
   "metadata": {},
   "outputs": [
    {
     "data": {
      "text/plain": [
       "0.6933227859480062"
      ]
     },
     "execution_count": 27,
     "metadata": {},
     "output_type": "execute_result"
    }
   ],
   "source": [
    "len(testnotzero)/float(len(testpred))"
   ]
  },
  {
   "cell_type": "markdown",
   "metadata": {},
   "source": [
    "As expected, we do worse and there are more zeroes (presumably cases where there simply isn't information in the training set on the assay or compound).\n",
    "\n",
    "\n",
    "So what happens if we add fingerprints to the matrix?  This would let the model tie data together using chemical similarity, however traditional matrix factorization is unlikely to be ideal as the same norm is applied to the whole matrix despite the matrix containing two very different types of data (fingerprint bits and affinities).\n",
    "\n",
    "Nonetheless, let's see what happens."
   ]
  },
  {
   "cell_type": "code",
   "execution_count": 29,
   "metadata": {
    "collapsed": true
   },
   "outputs": [],
   "source": [
    "from rdkit.Chem import AllChem as Chem"
   ]
  },
  {
   "cell_type": "code",
   "execution_count": 36,
   "metadata": {
    "collapsed": true
   },
   "outputs": [],
   "source": [
    "mol =Chem.MolFromSmiles(randomtrain.smiles[0])\n",
    "bv = Chem.GetMorganFingerprintAsBitVect(mol,2)"
   ]
  },
  {
   "cell_type": "code",
   "execution_count": 136,
   "metadata": {
    "collapsed": true
   },
   "outputs": [],
   "source": [
    "def makefpmatrix(data, cmpdids, assayids):\n",
    "    fpsize = 2048\n",
    "    ret = np.full((len(cmpdids),len(assayids)+fpsize),np.nan)\n",
    "    for (rid, row) in data.iterrows():\n",
    "        r = cmpdids[row.ID]\n",
    "        c = assayids[row.AssayID]\n",
    "        ret[r][c] = row.pIC50_exp\n",
    "    start = len(assayids)\n",
    "    for (r,smi) in smiles.iteritems():\n",
    "        mol =Chem.MolFromSmiles(smi)\n",
    "        bv = Chem.GetMorganFingerprintAsBitVect(mol,2)\n",
    "        for i in xrange(bv.GetNumBits()):\n",
    "            ret[r][start+i] = float(bv.GetBit(i))\n",
    "    return ret"
   ]
  },
  {
   "cell_type": "code",
   "execution_count": 137,
   "metadata": {
    "collapsed": true
   },
   "outputs": [],
   "source": [
    "randomfp = makefpmatrix(randomtrain,cmpdids,assayids)"
   ]
  },
  {
   "cell_type": "code",
   "execution_count": 138,
   "metadata": {},
   "outputs": [
    {
     "data": {
      "text/plain": [
       "array([ nan,  nan,  nan, ...,   0.,   0.,   0.])"
      ]
     },
     "execution_count": 138,
     "metadata": {},
     "output_type": "execute_result"
    }
   ],
   "source": [
    "randomfp[10398]"
   ]
  },
  {
   "cell_type": "code",
   "execution_count": 139,
   "metadata": {
    "collapsed": true
   },
   "outputs": [],
   "source": [
    "model = nmf.NMF(solver='mu') \n",
    "W = model.fit_transform(randomfp)\n",
    "H = model.components_"
   ]
  },
  {
   "cell_type": "code",
   "execution_count": 140,
   "metadata": {
    "collapsed": true
   },
   "outputs": [],
   "source": [
    "pred = np.matmul(W,H)\n",
    "trainpredfp = getpred(pred,randomtrain, cmpdids, assayids)"
   ]
  },
  {
   "cell_type": "code",
   "execution_count": 141,
   "metadata": {
    "collapsed": true
   },
   "outputs": [],
   "source": [
    "testpredfp = getpred(pred,randomtest, cmpdids, assayids)"
   ]
  },
  {
   "cell_type": "code",
   "execution_count": null,
   "metadata": {
    "collapsed": true
   },
   "outputs": [],
   "source": []
  },
  {
   "cell_type": "code",
   "execution_count": 142,
   "metadata": {},
   "outputs": [
    {
     "name": "stdout",
     "output_type": "stream",
     "text": [
      "Pearson R, train = 0.998826371279 test = 0.186963880338\n"
     ]
    }
   ],
   "source": [
    "print \"Pearson R, train =\",np.corrcoef(trainpredfp.T)[0][1],\"test =\",np.corrcoef(testpredfp.T)[0][1]"
   ]
  },
  {
   "cell_type": "markdown",
   "metadata": {},
   "source": [
    "More data == lots of overfitting"
   ]
  },
  {
   "cell_type": "code",
   "execution_count": 143,
   "metadata": {
    "collapsed": true
   },
   "outputs": [],
   "source": [
    "fpresults = []\n",
    "for ncomponents in range(10,101,10):\n",
    "    model = nmf.NMF(solver='mu',n_components=ncomponents,init='random')\n",
    "    W = model.fit_transform(randomfp)\n",
    "    H = model.components_\n",
    "    pred = np.matmul(W,H)\n",
    "    trainpred = getpred(pred,randomtrain, cmpdids, assayids)\n",
    "    testpred = getpred(pred,randomtest,cmpdids,assayids)\n",
    "    testnotzero = testpred[testpred[:,1] > 0]\n",
    "    trainR = np.corrcoef(trainpred.T)[0][1]\n",
    "    testR = np.corrcoef(testpred.T)[0][1]\n",
    "    testRnz = np.corrcoef(testnotzero.T)[0][1]\n",
    "\n",
    "    trainRMS = mean_squared_error(trainpred[:,0],trainpred[:,1])\n",
    "    testRMS = mean_squared_error(testpred[:,0],testpred[:,1])\n",
    "    testRMSnz = mean_squared_error(testnotzero[:,0],testnotzero[:,1])\n",
    "    fpresults.append((ncomponents,trainR,trainRMS, testR,testRMS, testRnz,testRMSnz))"
   ]
  },
  {
   "cell_type": "code",
   "execution_count": 144,
   "metadata": {
    "collapsed": true
   },
   "outputs": [],
   "source": [
    "fpgridres = pd.DataFrame(fpresults,columns=['ncomponents','trainR','trainRMS','testR','testRMS','testRnz','testRMSnz'])"
   ]
  },
  {
   "cell_type": "code",
   "execution_count": 145,
   "metadata": {},
   "outputs": [
    {
     "data": {
      "text/plain": [
       "(0, 12)"
      ]
     },
     "execution_count": 145,
     "metadata": {},
     "output_type": "execute_result"
    },
    {
     "data": {
      "image/png": "[encoded data removed]",
      "text/plain": [
       "<matplotlib.figure.Figure at 0x7f1af6e278d0>"
      ]
     },
     "metadata": {},
     "output_type": "display_data"
    }
   ],
   "source": [
    "fig = plt.figure(figsize=(8,4))\n",
    "ax = plt.subplot(1,2,1)\n",
    "ax.plot(trainpredfp[:,0],trainpredfp[:,1],'o',alpha=.1,markeredgewidth=0)\n",
    "ax.set_aspect('equal')\n",
    "ax.set_xlabel('Experimental')\n",
    "ax.set_ylabel('Predicted')\n",
    "ax.set_title(\"Training Set\")\n",
    "ax.set_ylim(0,12)\n",
    "ax.set_xlim(0,12)\n",
    "\n",
    "ax = plt.subplot(1,2,2)\n",
    "ax.plot(testpredfp[:,0],testpredfp[:,1],'o',alpha=.1,markeredgewidth=0)\n",
    "ax.set_aspect('equal')\n",
    "ax.set_xlabel('Experimental')\n",
    "ax.set_title(\"Test Set\")\n",
    "ax.set_ylim(0,12)\n",
    "ax.set_xlim(0,12)"
   ]
  },
  {
   "cell_type": "code",
   "execution_count": 146,
   "metadata": {},
   "outputs": [
    {
     "name": "stdout",
     "output_type": "stream",
     "text": [
      "Pearson R = 0.186963880338 RMSE 10.1003843403\n"
     ]
    }
   ],
   "source": [
    "fptestnotzero = testpredfp[testpredfp[:,1] > 0]\n",
    "print \"Pearson R =\",np.corrcoef(fptestnotzero.T)[0][1],\"RMSE\", mean_squared_error(fptestnotzero[:,0],fptestnotzero[:,1])"
   ]
  },
  {
   "cell_type": "markdown",
   "metadata": {},
   "source": [
    "The zeroes are gone. My expectation was that the FP bits would help link compounds together.  Some of the test predictions are WAY off."
   ]
  },
  {
   "cell_type": "code",
   "execution_count": 147,
   "metadata": {},
   "outputs": [
    {
     "data": {
      "text/plain": [
       "186.81968087998675"
      ]
     },
     "execution_count": 147,
     "metadata": {},
     "output_type": "execute_result"
    }
   ],
   "source": [
    "np.max(testpredfp)"
   ]
  },
  {
   "cell_type": "code",
   "execution_count": 148,
   "metadata": {},
   "outputs": [
    {
     "data": {
      "text/plain": [
       "<matplotlib.text.Text at 0x7f1af6c759d0>"
      ]
     },
     "execution_count": 148,
     "metadata": {},
     "output_type": "execute_result"
    },
    {
     "data": {
      "image/png": "[encoded data removed]",
      "text/plain": [
       "<matplotlib.figure.Figure at 0x7f1af6a97d90>"
      ]
     },
     "metadata": {},
     "output_type": "display_data"
    }
   ],
   "source": [
    "plt.plot(fpgridres.ncomponents,fpgridres.testRnz,label='Excluding zeroes')\n",
    "plt.xlabel('ncomponents')\n",
    "plt.ylabel('R')"
   ]
  },
  {
   "cell_type": "markdown",
   "metadata": {},
   "source": [
    "Huh, so the matrix including fingerprints has a crazy amount of variation given the number of components and doesn't do better than the matrix without them.  Perhaps it isn't converging?"
   ]
  },
  {
   "cell_type": "code",
   "execution_count": 163,
   "metadata": {
    "collapsed": true
   },
   "outputs": [],
   "source": [
    "model = nmf.NMF(solver='mu',n_components=50,init='random',max_iter=1000)\n",
    "W = model.fit_transform(randomfp)\n",
    "H = model.components_\n",
    "pred = np.matmul(W,H)\n",
    "trainpredfp = getpred(pred,randomtrain, cmpdids, assayids)\n",
    "testpredfp = getpred(pred,randomtest,cmpdids,assayids)"
   ]
  },
  {
   "cell_type": "code",
   "execution_count": 169,
   "metadata": {
    "collapsed": true
   },
   "outputs": [],
   "source": [
    "trainR = np.corrcoef(trainpredfp.T)[0][1]\n",
    "testR = np.corrcoef(testpredfp.T)[0][1]\n",
    "\n",
    "trainRMS = mean_squared_error(trainpredfp[:,0],trainpredfp[:,1])\n",
    "testRMS = mean_squared_error(testpredfp[:,0],testpredfp[:,1])\n"
   ]
  },
  {
   "cell_type": "code",
   "execution_count": 170,
   "metadata": {},
   "outputs": [
    {
     "data": {
      "text/plain": [
       "(0.95717342439760356, 0.36611301400387891)"
      ]
     },
     "execution_count": 170,
     "metadata": {},
     "output_type": "execute_result"
    }
   ],
   "source": [
    "trainR,testR"
   ]
  },
  {
   "cell_type": "code",
   "execution_count": null,
   "metadata": {
    "collapsed": true
   },
   "outputs": [],
   "source": []
  },
  {
   "cell_type": "code",
   "execution_count": 172,
   "metadata": {},
   "outputs": [
    {
     "data": {
      "text/plain": [
       "(0, 12)"
      ]
     },
     "execution_count": 172,
     "metadata": {},
     "output_type": "execute_result"
    },
    {
     "data": {
      "image/png": "[encoded data removed]",
      "text/plain": [
       "<matplotlib.figure.Figure at 0x7f1aa84d3ed0>"
      ]
     },
     "metadata": {},
     "output_type": "display_data"
    }
   ],
   "source": [
    "fig = plt.figure(figsize=(8,4))\n",
    "ax = plt.subplot(1,2,1)\n",
    "ax.plot(trainpredfp[:,0],trainpredfp[:,1],'o',alpha=.1,markeredgewidth=0)\n",
    "ax.set_aspect('equal')\n",
    "ax.set_xlabel('Experimental')\n",
    "ax.set_ylabel('Predicted')\n",
    "ax.set_title(\"Training Set\")\n",
    "ax.set_ylim(0,12)\n",
    "ax.set_xlim(0,12)\n",
    "\n",
    "ax = plt.subplot(1,2,2)\n",
    "ax.plot(testpredfp[:,0],testpredfp[:,1],'o',alpha=.1,markeredgewidth=0)\n",
    "ax.set_aspect('equal')\n",
    "ax.set_xlabel('Experimental')\n",
    "ax.set_title(\"Test Set\")\n",
    "ax.set_ylim(0,12)\n",
    "ax.set_xlim(0,12)\n"
   ]
  },
  {
   "cell_type": "markdown",
   "metadata": {},
   "source": [
    "I'm not going to bother with the realistic set.  It's clear there is a portion of the data that isn't susceptible to interpolation using a linear model. Even with the inclusion of fingerprints, a large number of compounds get assigned a \"default\" value close to the mean.\n",
    "\n",
    "Including fingerprints doesn't help other than removing the zero compounds.  This doesn't totally surprise me since I think you need a different loss function for the fingerprints vs. the affinity data in the reconstructed matrix."
   ]
  },
  {
   "cell_type": "code",
   "execution_count": 177,
   "metadata": {},
   "outputs": [
    {
     "data": {
      "text/plain": [
       "pIC50_exp          5.011075\n",
       "pIC50_pred         5.011076\n",
       "AssayID       795668.238289\n",
       "dtype: float64"
      ]
     },
     "execution_count": 177,
     "metadata": {},
     "output_type": "execute_result"
    }
   ],
   "source": [
    "randomtrain.mean()"
   ]
  },
  {
   "cell_type": "markdown",
   "metadata": {},
   "source": [
    "Let's see if regularization buys us anything."
   ]
  },
  {
   "cell_type": "code",
   "execution_count": 178,
   "metadata": {
    "collapsed": true
   },
   "outputs": [],
   "source": [
    "model = nmf.NMF(solver='mu',n_components=50,init='random',alpha=0.1)\n",
    "W = model.fit_transform(randomfp)\n",
    "H = model.components_\n",
    "pred = np.matmul(W,H)\n",
    "trainpredfp = getpred(pred,randomtrain, cmpdids, assayids)\n",
    "testpredfp = getpred(pred,randomtest,cmpdids,assayids)"
   ]
  },
  {
   "cell_type": "code",
   "execution_count": 179,
   "metadata": {},
   "outputs": [
    {
     "data": {
      "text/plain": [
       "(0, 12)"
      ]
     },
     "execution_count": 179,
     "metadata": {},
     "output_type": "execute_result"
    },
    {
     "data": {
      "image/png": "[encoded data removed]",
      "text/plain": [
       "<matplotlib.figure.Figure at 0x7f1ac3f4f9d0>"
      ]
     },
     "metadata": {},
     "output_type": "display_data"
    }
   ],
   "source": [
    "fig = plt.figure(figsize=(8,4))\n",
    "ax = plt.subplot(1,2,1)\n",
    "ax.plot(trainpredfp[:,0],trainpredfp[:,1],'o',alpha=.1,markeredgewidth=0)\n",
    "ax.set_aspect('equal')\n",
    "ax.set_xlabel('Experimental')\n",
    "ax.set_ylabel('Predicted')\n",
    "ax.set_title(\"Training Set\")\n",
    "ax.set_ylim(0,12)\n",
    "ax.set_xlim(0,12)\n",
    "\n",
    "ax = plt.subplot(1,2,2)\n",
    "ax.plot(testpredfp[:,0],testpredfp[:,1],'o',alpha=.1,markeredgewidth=0)\n",
    "ax.set_aspect('equal')\n",
    "ax.set_xlabel('Experimental')\n",
    "ax.set_title(\"Test Set\")\n",
    "ax.set_ylim(0,12)\n",
    "ax.set_xlim(0,12)\n"
   ]
  },
  {
   "cell_type": "code",
   "execution_count": 187,
   "metadata": {},
   "outputs": [
    {
     "data": {
      "text/plain": [
       "(0.94058380193575042, 0.60436222431119468)"
      ]
     },
     "execution_count": 187,
     "metadata": {},
     "output_type": "execute_result"
    }
   ],
   "source": [
    "trainR = np.corrcoef(trainpredfp.T)[0][1]\n",
    "testR = np.corrcoef(testpredfp.T)[0][1]\n",
    "\n",
    "trainRMS = mean_squared_error(trainpredfp[:,0],trainpredfp[:,1])\n",
    "testRMS = mean_squared_error(testpredfp[:,0],testpredfp[:,1])\n",
    "\n",
    "trainR,testR"
   ]
  },
  {
   "cell_type": "markdown",
   "metadata": {},
   "source": [
    "Apparently regularization helps quite a bit, let's redo the grid search."
   ]
  },
  {
   "cell_type": "code",
   "execution_count": null,
   "metadata": {
    "collapsed": true
   },
   "outputs": [],
   "source": [
    "fpresults = []\n",
    "for alpha in [0.01,.1,1]:\n",
    "    for l1_ratio in [0,0.5,1]:\n",
    "            for ncomponents in [25,50,100]:\n",
    "                model = nmf.NMF(solver='mu',alpha=alpha,l1_ratio=l1_ratio,n_components=ncomponents,init='random')\n",
    "                W = model.fit_transform(randomfp)\n",
    "                H = model.components_\n",
    "                pred = np.matmul(W,H)\n",
    "                trainpred = getpred(pred,randomtrain, cmpdids, assayids)\n",
    "                testpred = getpred(pred,randomtest,cmpdids,assayids)\n",
    "                testnotzero = testpred[testpred[:,1] > 0]\n",
    "                trainR = np.corrcoef(trainpred.T)[0][1]\n",
    "                testR = np.corrcoef(testpred.T)[0][1]\n",
    "                testRnz = np.corrcoef(testnotzero.T)[0][1]\n",
    "\n",
    "                trainRMS = mean_squared_error(trainpred[:,0],trainpred[:,1])\n",
    "                testRMS = mean_squared_error(testpred[:,0],testpred[:,1])\n",
    "                testRMSnz = mean_squared_error(testnotzero[:,0],testnotzero[:,1])\n",
    "                fpresults.append((alpha,l1_ratio,ncomponents,trainR,trainRMS, testR,testRMS, testRnz,testRMSnz))"
   ]
  },
  {
   "cell_type": "code",
   "execution_count": 188,
   "metadata": {
    "collapsed": true
   },
   "outputs": [],
   "source": [
    "gridfpres = pd.DataFrame(fpresults,columns=['alpha','l1_ratio','ncomponents','trainR','trainRMS','testR','testRMS','testRnz','testRMSnz'])"
   ]
  },
  {
   "cell_type": "code",
   "execution_count": 190,
   "metadata": {},
   "outputs": [
    {
     "data": {
      "text/html": [
       "<div>\n",
       "<table border=\"1\" class=\"dataframe\">\n",
       "  <thead>\n",
       "    <tr style=\"text-align: right;\">\n",
       "      <th></th>\n",
       "      <th>alpha</th>\n",
       "      <th>l1_ratio</th>\n",
       "      <th>ncomponents</th>\n",
       "      <th>trainR</th>\n",
       "      <th>trainRMS</th>\n",
       "      <th>testR</th>\n",
       "      <th>testRMS</th>\n",
       "      <th>testRnz</th>\n",
       "      <th>testRMSnz</th>\n",
       "    </tr>\n",
       "  </thead>\n",
       "  <tbody>\n",
       "    <tr>\n",
       "      <th>18</th>\n",
       "      <td>1.00</td>\n",
       "      <td>0.0</td>\n",
       "      <td>25</td>\n",
       "      <td>0.898178</td>\n",
       "      <td>0.219105</td>\n",
       "      <td>0.654802</td>\n",
       "      <td>0.725218</td>\n",
       "      <td>0.654802</td>\n",
       "      <td>0.725218</td>\n",
       "    </tr>\n",
       "    <tr>\n",
       "      <th>19</th>\n",
       "      <td>1.00</td>\n",
       "      <td>0.0</td>\n",
       "      <td>50</td>\n",
       "      <td>0.927432</td>\n",
       "      <td>0.159956</td>\n",
       "      <td>0.650619</td>\n",
       "      <td>0.738860</td>\n",
       "      <td>0.650619</td>\n",
       "      <td>0.738860</td>\n",
       "    </tr>\n",
       "    <tr>\n",
       "      <th>20</th>\n",
       "      <td>1.00</td>\n",
       "      <td>0.0</td>\n",
       "      <td>100</td>\n",
       "      <td>0.953198</td>\n",
       "      <td>0.106278</td>\n",
       "      <td>0.641593</td>\n",
       "      <td>0.761864</td>\n",
       "      <td>0.641593</td>\n",
       "      <td>0.761864</td>\n",
       "    </tr>\n",
       "    <tr>\n",
       "      <th>22</th>\n",
       "      <td>1.00</td>\n",
       "      <td>0.5</td>\n",
       "      <td>50</td>\n",
       "      <td>0.923886</td>\n",
       "      <td>0.166429</td>\n",
       "      <td>0.609304</td>\n",
       "      <td>0.899634</td>\n",
       "      <td>0.609304</td>\n",
       "      <td>0.899634</td>\n",
       "    </tr>\n",
       "    <tr>\n",
       "      <th>4</th>\n",
       "      <td>0.01</td>\n",
       "      <td>0.5</td>\n",
       "      <td>50</td>\n",
       "      <td>0.943097</td>\n",
       "      <td>0.124894</td>\n",
       "      <td>0.598551</td>\n",
       "      <td>0.935874</td>\n",
       "      <td>0.598551</td>\n",
       "      <td>0.935874</td>\n",
       "    </tr>\n",
       "    <tr>\n",
       "      <th>10</th>\n",
       "      <td>0.10</td>\n",
       "      <td>0.0</td>\n",
       "      <td>50</td>\n",
       "      <td>0.942407</td>\n",
       "      <td>0.126577</td>\n",
       "      <td>0.593450</td>\n",
       "      <td>0.947865</td>\n",
       "      <td>0.593450</td>\n",
       "      <td>0.947865</td>\n",
       "    </tr>\n",
       "    <tr>\n",
       "      <th>23</th>\n",
       "      <td>1.00</td>\n",
       "      <td>0.5</td>\n",
       "      <td>100</td>\n",
       "      <td>0.949096</td>\n",
       "      <td>0.113364</td>\n",
       "      <td>0.583688</td>\n",
       "      <td>0.985286</td>\n",
       "      <td>0.583688</td>\n",
       "      <td>0.985286</td>\n",
       "    </tr>\n",
       "    <tr>\n",
       "      <th>21</th>\n",
       "      <td>1.00</td>\n",
       "      <td>0.5</td>\n",
       "      <td>25</td>\n",
       "      <td>0.895401</td>\n",
       "      <td>0.224405</td>\n",
       "      <td>0.578370</td>\n",
       "      <td>1.007175</td>\n",
       "      <td>0.578370</td>\n",
       "      <td>1.007175</td>\n",
       "    </tr>\n",
       "    <tr>\n",
       "      <th>2</th>\n",
       "      <td>0.01</td>\n",
       "      <td>0.0</td>\n",
       "      <td>100</td>\n",
       "      <td>0.970198</td>\n",
       "      <td>0.066698</td>\n",
       "      <td>0.572575</td>\n",
       "      <td>1.012669</td>\n",
       "      <td>0.572575</td>\n",
       "      <td>1.012669</td>\n",
       "    </tr>\n",
       "    <tr>\n",
       "      <th>25</th>\n",
       "      <td>1.00</td>\n",
       "      <td>1.0</td>\n",
       "      <td>50</td>\n",
       "      <td>0.925670</td>\n",
       "      <td>0.161603</td>\n",
       "      <td>0.568790</td>\n",
       "      <td>1.072897</td>\n",
       "      <td>0.568790</td>\n",
       "      <td>1.072897</td>\n",
       "    </tr>\n",
       "  </tbody>\n",
       "</table>\n",
       "</div>"
      ],
      "text/plain": [
       "    alpha  l1_ratio  ncomponents    trainR  trainRMS     testR   testRMS  \\\n",
       "18   1.00       0.0           25  0.898178  0.219105  0.654802  0.725218   \n",
       "19   1.00       0.0           50  0.927432  0.159956  0.650619  0.738860   \n",
       "20   1.00       0.0          100  0.953198  0.106278  0.641593  0.761864   \n",
       "22   1.00       0.5           50  0.923886  0.166429  0.609304  0.899634   \n",
       "4    0.01       0.5           50  0.943097  0.124894  0.598551  0.935874   \n",
       "10   0.10       0.0           50  0.942407  0.126577  0.593450  0.947865   \n",
       "23   1.00       0.5          100  0.949096  0.113364  0.583688  0.985286   \n",
       "21   1.00       0.5           25  0.895401  0.224405  0.578370  1.007175   \n",
       "2    0.01       0.0          100  0.970198  0.066698  0.572575  1.012669   \n",
       "25   1.00       1.0           50  0.925670  0.161603  0.568790  1.072897   \n",
       "\n",
       "     testRnz  testRMSnz  \n",
       "18  0.654802   0.725218  \n",
       "19  0.650619   0.738860  \n",
       "20  0.641593   0.761864  \n",
       "22  0.609304   0.899634  \n",
       "4   0.598551   0.935874  \n",
       "10  0.593450   0.947865  \n",
       "23  0.583688   0.985286  \n",
       "21  0.578370   1.007175  \n",
       "2   0.572575   1.012669  \n",
       "25  0.568790   1.072897  "
      ]
     },
     "execution_count": 190,
     "metadata": {},
     "output_type": "execute_result"
    }
   ],
   "source": [
    "gridfpres.sort_values('testR',ascending=False)[:10]"
   ]
  },
  {
   "cell_type": "code",
   "execution_count": 192,
   "metadata": {},
   "outputs": [
    {
     "data": {
      "text/html": [
       "<div>\n",
       "<table border=\"1\" class=\"dataframe\">\n",
       "  <thead>\n",
       "    <tr style=\"text-align: right;\">\n",
       "      <th></th>\n",
       "      <th>alpha</th>\n",
       "      <th>l1_ratio</th>\n",
       "      <th>ncomponents</th>\n",
       "      <th>trainR</th>\n",
       "      <th>trainRMS</th>\n",
       "      <th>testR</th>\n",
       "      <th>testRMS</th>\n",
       "      <th>testRnz</th>\n",
       "      <th>testRMSnz</th>\n",
       "    </tr>\n",
       "  </thead>\n",
       "  <tbody>\n",
       "    <tr>\n",
       "      <th>18</th>\n",
       "      <td>1.00</td>\n",
       "      <td>0.0</td>\n",
       "      <td>25</td>\n",
       "      <td>0.898178</td>\n",
       "      <td>0.219105</td>\n",
       "      <td>0.654802</td>\n",
       "      <td>0.725218</td>\n",
       "      <td>0.654802</td>\n",
       "      <td>0.725218</td>\n",
       "    </tr>\n",
       "    <tr>\n",
       "      <th>19</th>\n",
       "      <td>1.00</td>\n",
       "      <td>0.0</td>\n",
       "      <td>50</td>\n",
       "      <td>0.927432</td>\n",
       "      <td>0.159956</td>\n",
       "      <td>0.650619</td>\n",
       "      <td>0.738860</td>\n",
       "      <td>0.650619</td>\n",
       "      <td>0.738860</td>\n",
       "    </tr>\n",
       "    <tr>\n",
       "      <th>20</th>\n",
       "      <td>1.00</td>\n",
       "      <td>0.0</td>\n",
       "      <td>100</td>\n",
       "      <td>0.953198</td>\n",
       "      <td>0.106278</td>\n",
       "      <td>0.641593</td>\n",
       "      <td>0.761864</td>\n",
       "      <td>0.641593</td>\n",
       "      <td>0.761864</td>\n",
       "    </tr>\n",
       "    <tr>\n",
       "      <th>22</th>\n",
       "      <td>1.00</td>\n",
       "      <td>0.5</td>\n",
       "      <td>50</td>\n",
       "      <td>0.923886</td>\n",
       "      <td>0.166429</td>\n",
       "      <td>0.609304</td>\n",
       "      <td>0.899634</td>\n",
       "      <td>0.609304</td>\n",
       "      <td>0.899634</td>\n",
       "    </tr>\n",
       "    <tr>\n",
       "      <th>4</th>\n",
       "      <td>0.01</td>\n",
       "      <td>0.5</td>\n",
       "      <td>50</td>\n",
       "      <td>0.943097</td>\n",
       "      <td>0.124894</td>\n",
       "      <td>0.598551</td>\n",
       "      <td>0.935874</td>\n",
       "      <td>0.598551</td>\n",
       "      <td>0.935874</td>\n",
       "    </tr>\n",
       "    <tr>\n",
       "      <th>10</th>\n",
       "      <td>0.10</td>\n",
       "      <td>0.0</td>\n",
       "      <td>50</td>\n",
       "      <td>0.942407</td>\n",
       "      <td>0.126577</td>\n",
       "      <td>0.593450</td>\n",
       "      <td>0.947865</td>\n",
       "      <td>0.593450</td>\n",
       "      <td>0.947865</td>\n",
       "    </tr>\n",
       "    <tr>\n",
       "      <th>23</th>\n",
       "      <td>1.00</td>\n",
       "      <td>0.5</td>\n",
       "      <td>100</td>\n",
       "      <td>0.949096</td>\n",
       "      <td>0.113364</td>\n",
       "      <td>0.583688</td>\n",
       "      <td>0.985286</td>\n",
       "      <td>0.583688</td>\n",
       "      <td>0.985286</td>\n",
       "    </tr>\n",
       "    <tr>\n",
       "      <th>21</th>\n",
       "      <td>1.00</td>\n",
       "      <td>0.5</td>\n",
       "      <td>25</td>\n",
       "      <td>0.895401</td>\n",
       "      <td>0.224405</td>\n",
       "      <td>0.578370</td>\n",
       "      <td>1.007175</td>\n",
       "      <td>0.578370</td>\n",
       "      <td>1.007175</td>\n",
       "    </tr>\n",
       "    <tr>\n",
       "      <th>2</th>\n",
       "      <td>0.01</td>\n",
       "      <td>0.0</td>\n",
       "      <td>100</td>\n",
       "      <td>0.970198</td>\n",
       "      <td>0.066698</td>\n",
       "      <td>0.572575</td>\n",
       "      <td>1.012669</td>\n",
       "      <td>0.572575</td>\n",
       "      <td>1.012669</td>\n",
       "    </tr>\n",
       "    <tr>\n",
       "      <th>11</th>\n",
       "      <td>0.10</td>\n",
       "      <td>0.0</td>\n",
       "      <td>100</td>\n",
       "      <td>0.967755</td>\n",
       "      <td>0.072396</td>\n",
       "      <td>0.556565</td>\n",
       "      <td>1.054272</td>\n",
       "      <td>0.556565</td>\n",
       "      <td>1.054272</td>\n",
       "    </tr>\n",
       "  </tbody>\n",
       "</table>\n",
       "</div>"
      ],
      "text/plain": [
       "    alpha  l1_ratio  ncomponents    trainR  trainRMS     testR   testRMS  \\\n",
       "18   1.00       0.0           25  0.898178  0.219105  0.654802  0.725218   \n",
       "19   1.00       0.0           50  0.927432  0.159956  0.650619  0.738860   \n",
       "20   1.00       0.0          100  0.953198  0.106278  0.641593  0.761864   \n",
       "22   1.00       0.5           50  0.923886  0.166429  0.609304  0.899634   \n",
       "4    0.01       0.5           50  0.943097  0.124894  0.598551  0.935874   \n",
       "10   0.10       0.0           50  0.942407  0.126577  0.593450  0.947865   \n",
       "23   1.00       0.5          100  0.949096  0.113364  0.583688  0.985286   \n",
       "21   1.00       0.5           25  0.895401  0.224405  0.578370  1.007175   \n",
       "2    0.01       0.0          100  0.970198  0.066698  0.572575  1.012669   \n",
       "11   0.10       0.0          100  0.967755  0.072396  0.556565  1.054272   \n",
       "\n",
       "     testRnz  testRMSnz  \n",
       "18  0.654802   0.725218  \n",
       "19  0.650619   0.738860  \n",
       "20  0.641593   0.761864  \n",
       "22  0.609304   0.899634  \n",
       "4   0.598551   0.935874  \n",
       "10  0.593450   0.947865  \n",
       "23  0.583688   0.985286  \n",
       "21  0.578370   1.007175  \n",
       "2   0.572575   1.012669  \n",
       "11  0.556565   1.054272  "
      ]
     },
     "execution_count": 192,
     "metadata": {},
     "output_type": "execute_result"
    }
   ],
   "source": [
    "gridfpres.sort_values('testRMS',ascending=True)[:10]"
   ]
  },
  {
   "cell_type": "markdown",
   "metadata": {},
   "source": [
    "For both R and RMS more regularization is better (fewer components, larger alpha).  L2 regularization is strongly prefered to L1."
   ]
  },
  {
   "cell_type": "code",
   "execution_count": 195,
   "metadata": {
    "collapsed": true
   },
   "outputs": [],
   "source": [
    "#evaluate larger alpha\n",
    "fpresults2 = []\n",
    "for alpha in [1,2,4,8]:\n",
    "    model = nmf.NMF(solver='mu',alpha=alpha,n_components=25,init='random')\n",
    "    W = model.fit_transform(randomfp)\n",
    "    H = model.components_\n",
    "    pred = np.matmul(W,H)\n",
    "    trainpred = getpred(pred,randomtrain, cmpdids, assayids)\n",
    "    testpred = getpred(pred,randomtest,cmpdids,assayids)\n",
    "    testnotzero = testpred[testpred[:,1] > 0]\n",
    "    trainR = np.corrcoef(trainpred.T)[0][1]\n",
    "    testR = np.corrcoef(testpred.T)[0][1]\n",
    "    testRnz = np.corrcoef(testnotzero.T)[0][1]\n",
    "\n",
    "    trainRMS = mean_squared_error(trainpred[:,0],trainpred[:,1])\n",
    "    testRMS = mean_squared_error(testpred[:,0],testpred[:,1])\n",
    "    testRMSnz = mean_squared_error(testnotzero[:,0],testnotzero[:,1])\n",
    "    fpresults2.append((alpha,l1_ratio,ncomponents,trainR,trainRMS, testR,testRMS, testRnz,testRMSnz))"
   ]
  },
  {
   "cell_type": "code",
   "execution_count": 196,
   "metadata": {
    "collapsed": true
   },
   "outputs": [],
   "source": [
    "gridfpres2 = pd.DataFrame(fpresults2,columns=['alpha','l1_ratio','ncomponents','trainR','trainRMS','testR','testRMS','testRnz','testRMSnz'])"
   ]
  },
  {
   "cell_type": "code",
   "execution_count": 197,
   "metadata": {},
   "outputs": [
    {
     "data": {
      "text/html": [
       "<div>\n",
       "<table border=\"1\" class=\"dataframe\">\n",
       "  <thead>\n",
       "    <tr style=\"text-align: right;\">\n",
       "      <th></th>\n",
       "      <th>alpha</th>\n",
       "      <th>l1_ratio</th>\n",
       "      <th>ncomponents</th>\n",
       "      <th>trainR</th>\n",
       "      <th>trainRMS</th>\n",
       "      <th>testR</th>\n",
       "      <th>testRMS</th>\n",
       "      <th>testRnz</th>\n",
       "      <th>testRMSnz</th>\n",
       "    </tr>\n",
       "  </thead>\n",
       "  <tbody>\n",
       "    <tr>\n",
       "      <th>0</th>\n",
       "      <td>1</td>\n",
       "      <td>1</td>\n",
       "      <td>100</td>\n",
       "      <td>0.896172</td>\n",
       "      <td>0.223343</td>\n",
       "      <td>0.606145</td>\n",
       "      <td>0.880539</td>\n",
       "      <td>0.606145</td>\n",
       "      <td>0.880539</td>\n",
       "    </tr>\n",
       "    <tr>\n",
       "      <th>1</th>\n",
       "      <td>2</td>\n",
       "      <td>1</td>\n",
       "      <td>100</td>\n",
       "      <td>0.884905</td>\n",
       "      <td>0.247272</td>\n",
       "      <td>0.649510</td>\n",
       "      <td>0.729915</td>\n",
       "      <td>0.649510</td>\n",
       "      <td>0.729915</td>\n",
       "    </tr>\n",
       "    <tr>\n",
       "      <th>2</th>\n",
       "      <td>4</td>\n",
       "      <td>1</td>\n",
       "      <td>100</td>\n",
       "      <td>0.874771</td>\n",
       "      <td>0.269151</td>\n",
       "      <td>0.600414</td>\n",
       "      <td>0.887892</td>\n",
       "      <td>0.600414</td>\n",
       "      <td>0.887892</td>\n",
       "    </tr>\n",
       "    <tr>\n",
       "      <th>3</th>\n",
       "      <td>8</td>\n",
       "      <td>1</td>\n",
       "      <td>100</td>\n",
       "      <td>0.857825</td>\n",
       "      <td>0.306887</td>\n",
       "      <td>0.570753</td>\n",
       "      <td>0.982499</td>\n",
       "      <td>0.570753</td>\n",
       "      <td>0.982499</td>\n",
       "    </tr>\n",
       "  </tbody>\n",
       "</table>\n",
       "</div>"
      ],
      "text/plain": [
       "   alpha  l1_ratio  ncomponents    trainR  trainRMS     testR   testRMS  \\\n",
       "0      1         1          100  0.896172  0.223343  0.606145  0.880539   \n",
       "1      2         1          100  0.884905  0.247272  0.649510  0.729915   \n",
       "2      4         1          100  0.874771  0.269151  0.600414  0.887892   \n",
       "3      8         1          100  0.857825  0.306887  0.570753  0.982499   \n",
       "\n",
       "    testRnz  testRMSnz  \n",
       "0  0.606145   0.880539  \n",
       "1  0.649510   0.729915  \n",
       "2  0.600414   0.887892  \n",
       "3  0.570753   0.982499  "
      ]
     },
     "execution_count": 197,
     "metadata": {},
     "output_type": "execute_result"
    }
   ],
   "source": [
    "gridfpres2"
   ]
  },
  {
   "cell_type": "markdown",
   "metadata": {},
   "source": [
    "Huh, a certain lack of reproducibility due to random initialization."
   ]
  },
  {
   "cell_type": "code",
   "execution_count": 198,
   "metadata": {
    "collapsed": true
   },
   "outputs": [],
   "source": [
    "fpresults3 = []\n",
    "for i in xrange(5):\n",
    "    model = nmf.NMF(solver='mu',alpha=2,n_components=25,init='random')\n",
    "    W = model.fit_transform(randomfp)\n",
    "    H = model.components_\n",
    "    pred = np.matmul(W,H)\n",
    "    trainpred = getpred(pred,randomtrain, cmpdids, assayids)\n",
    "    testpred = getpred(pred,randomtest,cmpdids,assayids)\n",
    "    testnotzero = testpred[testpred[:,1] > 0]\n",
    "    trainR = np.corrcoef(trainpred.T)[0][1]\n",
    "    testR = np.corrcoef(testpred.T)[0][1]\n",
    "\n",
    "    trainRMS = mean_squared_error(trainpred[:,0],trainpred[:,1])\n",
    "    testRMS = mean_squared_error(testpred[:,0],testpred[:,1])\n",
    "    fpresults3.append((i,trainR,trainRMS, testR,testRMS))"
   ]
  },
  {
   "cell_type": "code",
   "execution_count": 200,
   "metadata": {
    "collapsed": true
   },
   "outputs": [],
   "source": [
    "gridfpres3 = pd.DataFrame(fpresults3,columns=['i','trainR','trainRMS','testR','testRMS'])"
   ]
  },
  {
   "cell_type": "code",
   "execution_count": 201,
   "metadata": {},
   "outputs": [
    {
     "data": {
      "text/html": [
       "<div>\n",
       "<table border=\"1\" class=\"dataframe\">\n",
       "  <thead>\n",
       "    <tr style=\"text-align: right;\">\n",
       "      <th></th>\n",
       "      <th>i</th>\n",
       "      <th>trainR</th>\n",
       "      <th>trainRMS</th>\n",
       "      <th>testR</th>\n",
       "      <th>testRMS</th>\n",
       "    </tr>\n",
       "  </thead>\n",
       "  <tbody>\n",
       "    <tr>\n",
       "      <th>0</th>\n",
       "      <td>0</td>\n",
       "      <td>0.888807</td>\n",
       "      <td>0.239611</td>\n",
       "      <td>0.638069</td>\n",
       "      <td>0.770297</td>\n",
       "    </tr>\n",
       "    <tr>\n",
       "      <th>1</th>\n",
       "      <td>1</td>\n",
       "      <td>0.887400</td>\n",
       "      <td>0.242361</td>\n",
       "      <td>0.652118</td>\n",
       "      <td>0.722700</td>\n",
       "    </tr>\n",
       "    <tr>\n",
       "      <th>2</th>\n",
       "      <td>2</td>\n",
       "      <td>0.886177</td>\n",
       "      <td>0.244806</td>\n",
       "      <td>0.654170</td>\n",
       "      <td>0.726952</td>\n",
       "    </tr>\n",
       "    <tr>\n",
       "      <th>3</th>\n",
       "      <td>3</td>\n",
       "      <td>0.887182</td>\n",
       "      <td>0.242778</td>\n",
       "      <td>0.646228</td>\n",
       "      <td>0.743245</td>\n",
       "    </tr>\n",
       "    <tr>\n",
       "      <th>4</th>\n",
       "      <td>4</td>\n",
       "      <td>0.889548</td>\n",
       "      <td>0.238324</td>\n",
       "      <td>0.657093</td>\n",
       "      <td>0.710361</td>\n",
       "    </tr>\n",
       "  </tbody>\n",
       "</table>\n",
       "</div>"
      ],
      "text/plain": [
       "   i    trainR  trainRMS     testR   testRMS\n",
       "0  0  0.888807  0.239611  0.638069  0.770297\n",
       "1  1  0.887400  0.242361  0.652118  0.722700\n",
       "2  2  0.886177  0.244806  0.654170  0.726952\n",
       "3  3  0.887182  0.242778  0.646228  0.743245\n",
       "4  4  0.889548  0.238324  0.657093  0.710361"
      ]
     },
     "execution_count": 201,
     "metadata": {},
     "output_type": "execute_result"
    }
   ],
   "source": [
    "gridfpres3 #just to get a sense for the amount of variability in the solver"
   ]
  },
  {
   "cell_type": "markdown",
   "metadata": {
    "collapsed": true
   },
   "source": [
    "Okay, let's try the realistic set..."
   ]
  },
  {
   "cell_type": "code",
   "execution_count": 203,
   "metadata": {
    "collapsed": true
   },
   "outputs": [],
   "source": [
    "realfp = makefpmatrix(realtrain,cmpdids,assayids)"
   ]
  },
  {
   "cell_type": "code",
   "execution_count": 204,
   "metadata": {
    "collapsed": true
   },
   "outputs": [],
   "source": [
    "model = nmf.NMF(solver='mu',alpha=alpha,n_components=25,init='random')\n",
    "W = model.fit_transform(realfp)\n",
    "H = model.components_\n",
    "pred = np.matmul(W,H)\n",
    "trainpred = getpred(pred,realtrain, cmpdids, assayids)\n",
    "testpred = getpred(pred,realtest,cmpdids,assayids)\n",
    "\n",
    "trainR = np.corrcoef(trainpred.T)[0][1]\n",
    "testR = np.corrcoef(testpred.T)[0][1]\n",
    "\n",
    "trainRMS = mean_squared_error(trainpred[:,0],trainpred[:,1])\n",
    "testRMS = mean_squared_error(testpred[:,0],testpred[:,1])\n"
   ]
  },
  {
   "cell_type": "code",
   "execution_count": 208,
   "metadata": {},
   "outputs": [
    {
     "name": "stdout",
     "output_type": "stream",
     "text": [
      "Train R 0.86638674033 Test R 0.180509078375 trainRMS 0.307570972276 testRMS 5.37755326531\n"
     ]
    }
   ],
   "source": [
    "print \"Train R\",trainR,\"Test R\",testR,\"trainRMS\",trainRMS,\"testRMS\",testRMS"
   ]
  },
  {
   "cell_type": "code",
   "execution_count": 209,
   "metadata": {},
   "outputs": [
    {
     "data": {
      "text/plain": [
       "(0, 12)"
      ]
     },
     "execution_count": 209,
     "metadata": {},
     "output_type": "execute_result"
    },
    {
     "data": {
      "image/png": "[encoded data removed]",
      "text/plain": [
       "<matplotlib.figure.Figure at 0x7f1aa85fba50>"
      ]
     },
     "metadata": {},
     "output_type": "display_data"
    }
   ],
   "source": [
    "fig = plt.figure(figsize=(8,4))\n",
    "ax = plt.subplot(1,2,1)\n",
    "ax.plot(trainpred[:,0],trainpred[:,1],'o',alpha=.1,markeredgewidth=0)\n",
    "ax.set_aspect('equal')\n",
    "ax.set_xlabel('Experimental')\n",
    "ax.set_ylabel('Predicted')\n",
    "ax.set_title(\"Training Set\")\n",
    "ax.set_ylim(0,12)\n",
    "ax.set_xlim(0,12)\n",
    "\n",
    "ax = plt.subplot(1,2,2)\n",
    "ax.plot(testpred[:,0],testpred[:,1],'o',alpha=.1,markeredgewidth=0)\n",
    "ax.set_aspect('equal')\n",
    "ax.set_xlabel('Experimental')\n",
    "ax.set_title(\"Test Set\")\n",
    "ax.set_ylim(0,12)\n",
    "ax.set_xlim(0,12)\n"
   ]
  },
  {
   "cell_type": "markdown",
   "metadata": {},
   "source": [
    "What if we exclude the compounds with only fingerprint information (this is a roundabout way to do that - filter compounds that were predicted zero without the fp bits)."
   ]
  },
  {
   "cell_type": "code",
   "execution_count": 210,
   "metadata": {
    "collapsed": true
   },
   "outputs": [],
   "source": [
    "model = nmf.NMF(solver='mu',n_components=25,init='random')\n",
    "W = model.fit_transform(realtrain_m)\n",
    "H = model.components_\n",
    "pred = np.matmul(W,H)\n",
    "nontrainpred = getpred(pred,realtrain, cmpdids, assayids)\n",
    "nontestpred = getpred(pred,realtest,cmpdids,assayids)"
   ]
  },
  {
   "cell_type": "code",
   "execution_count": 213,
   "metadata": {},
   "outputs": [],
   "source": [
    "nonzerotest = testpred[nontestpred[:,1] != 0]"
   ]
  },
  {
   "cell_type": "code",
   "execution_count": 220,
   "metadata": {},
   "outputs": [
    {
     "name": "stdout",
     "output_type": "stream",
     "text": [
      "With FP: 0.475577374178 1.08186124804\n"
     ]
    }
   ],
   "source": [
    "print \"With FP, easy cmpds:\",np.corrcoef(nonzerotest.T)[0][1], mean_squared_error(nonzerotest[:,0],nonzerotest[:,1])"
   ]
  },
  {
   "cell_type": "code",
   "execution_count": 223,
   "metadata": {},
   "outputs": [
    {
     "name": "stdout",
     "output_type": "stream",
     "text": [
      "Without FP, easy cmpds: 0.47508430735 0.972095251269\n"
     ]
    }
   ],
   "source": [
    "nonzeronofp = nontestpred[nontestpred[:,1] != 0]\n",
    "print \"Without FP, easy cmpds:\",np.corrcoef(nonzeronofp.T)[0][1], mean_squared_error(nonzeronofp[:,0],nonzeronofp[:,1])"
   ]
  },
  {
   "cell_type": "code",
   "execution_count": 224,
   "metadata": {},
   "outputs": [
    {
     "name": "stdout",
     "output_type": "stream",
     "text": [
      "With FP, all cmpds: 0.180509078375 5.37755326531\n"
     ]
    }
   ],
   "source": [
    "print \"With FP, all cmpds:\",np.corrcoef(testpred.T)[0][1], mean_squared_error(testpred[:,0],testpred[:,1])"
   ]
  },
  {
   "cell_type": "code",
   "execution_count": 225,
   "metadata": {},
   "outputs": [
    {
     "name": "stdout",
     "output_type": "stream",
     "text": [
      "Without FP, all cmpds: 0.11087854142 8.27088680105\n"
     ]
    }
   ],
   "source": [
    "print \"Without FP, all cmpds:\",np.corrcoef(nontestpred.T)[0][1], mean_squared_error(nontestpred[:,0],nontestpred[:,1])"
   ]
  },
  {
   "cell_type": "code",
   "execution_count": 226,
   "metadata": {},
   "outputs": [
    {
     "data": {
      "text/plain": [
       "(0, 12)"
      ]
     },
     "execution_count": 226,
     "metadata": {},
     "output_type": "execute_result"
    },
    {
     "data": {
      "image/png": "[encoded data removed]",
      "text/plain": [
       "<matplotlib.figure.Figure at 0x7f1ac6381410>"
      ]
     },
     "metadata": {},
     "output_type": "display_data"
    }
   ],
   "source": [
    "fig = plt.figure(figsize=(4,4))\n",
    "ax = plt.subplot(1,1,1)\n",
    "ax.plot(nonzerotest[:,0],nonzerotest[:,1],'o',alpha=.1,markeredgewidth=0)\n",
    "ax.set_aspect('equal')\n",
    "ax.set_xlabel('Experimental')\n",
    "ax.set_ylabel('Predicted')\n",
    "ax.set_title(\"Test Set\")\n",
    "ax.set_ylim(0,12)\n",
    "ax.set_xlim(0,12)\n"
   ]
  },
  {
   "cell_type": "code",
   "execution_count": null,
   "metadata": {
    "collapsed": true
   },
   "outputs": [],
   "source": []
  }
 ],
 "metadata": {
  "kernelspec": {
   "display_name": "Python 2",
   "language": "python",
   "name": "python2"
  },
  "language_info": {
   "codemirror_mode": {
    "name": "ipython",
    "version": 2
   },
   "file_extension": ".py",
   "mimetype": "text/x-python",
   "name": "python",
   "nbconvert_exporter": "python",
   "pygments_lexer": "ipython2",
   "version": "2.7.12"
  }
 },
 "nbformat": 4,
 "nbformat_minor": 1
}
