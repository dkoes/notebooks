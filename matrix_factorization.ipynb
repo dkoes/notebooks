{
 "cells": [
  {
   "cell_type": "markdown",
   "metadata": {},
   "source": [
    "Here I'm evaluating how well matrix factorization can work at predicting cross-assay bioactivities from ChEMBL.  Specifically, I'm using training/test sets provided by Eric Martin.\n",
    "\n",
    "The idea is we have a matrix where the rows are unique compounds and the columns are unique assays.  The matrix is sparse and we want to predict the missing values.\n",
    "\n",
    "First I'm going to investigate straightforward MF and then, hopefully, experiment with different loss functions and including chemical fingerprints in the matrix."
   ]
  },
  {
   "cell_type": "code",
   "execution_count": 2,
   "metadata": {
    "collapsed": false
   },
   "outputs": [],
   "source": [
    "import numpy as np\n",
    "import pandas as pd\n",
    "import glob,re,sys\n",
    "import matplotlib.pyplot as plt\n",
    "%matplotlib inline"
   ]
  },
  {
   "cell_type": "markdown",
   "metadata": {},
   "source": [
    "TomDLT implemented support for missing value imputation, but it doesn't look like it has been merged in yet so using it directly (https://github.com/scikit-learn/scikit-learn/pull/8474)"
   ]
  },
  {
   "cell_type": "code",
   "execution_count": 3,
   "metadata": {
    "collapsed": false
   },
   "outputs": [],
   "source": [
    "import nmf"
   ]
  },
  {
   "cell_type": "code",
   "execution_count": 4,
   "metadata": {
    "collapsed": true
   },
   "outputs": [],
   "source": [
    "randomtrain = pd.read_csv('chemble-splits/random.train')\n",
    "randomtest = pd.read_csv('chemble-splits/random.test')\n",
    "realtrain = pd.read_csv('chemble-splits/realistic.train')\n",
    "realtest = pd.read_csv('chemble-splits/realistic.test')"
   ]
  },
  {
   "cell_type": "code",
   "execution_count": 5,
   "metadata": {
    "collapsed": false
   },
   "outputs": [],
   "source": [
    "#map assay/cmpd ids to indices\n",
    "assayids = dict()\n",
    "cmpdids = dict()\n",
    "idx2cmpd = []\n",
    "idx2assay = []\n",
    "for table in [randomtrain, randomtest, realtrain, realtest]: #presumably redundant\n",
    "    for r in table.iterrows():\n",
    "        if r[1].ID not in cmpdids:\n",
    "            cmpdids[r[1].ID] = len(cmpdids)\n",
    "            idx2cmpd.append(r[1].ID)\n",
    "        if r[1].AssayID not in assayids:\n",
    "            assayids[r[1].AssayID] = len(assayids)\n",
    "            idx2assay.append(r[1].AssayID)"
   ]
  },
  {
   "cell_type": "code",
   "execution_count": 6,
   "metadata": {
    "collapsed": false
   },
   "outputs": [
    {
     "data": {
      "text/plain": [
       "(13190, 159)"
      ]
     },
     "execution_count": 6,
     "metadata": {},
     "output_type": "execute_result"
    }
   ],
   "source": [
    "len(cmpdids),len(assayids)"
   ]
  },
  {
   "cell_type": "code",
   "execution_count": 7,
   "metadata": {
    "collapsed": true
   },
   "outputs": [],
   "source": [
    "def makematrix(data, cmpdids, assayids):\n",
    "    ret = np.full((len(cmpdids),len(assayids)),np.nan)\n",
    "    for (rid, row) in data.iterrows():\n",
    "        r = cmpdids[row.ID]\n",
    "        c = assayids[row.AssayID]\n",
    "        ret[r][c] = row.pIC50_exp\n",
    "    return ret"
   ]
  },
  {
   "cell_type": "code",
   "execution_count": 8,
   "metadata": {
    "collapsed": false
   },
   "outputs": [],
   "source": [
    "randomtrain_m = makematrix(randomtrain,cmpdids,assayids)\n",
    "realtrain_m = makematrix(realtrain,cmpdids,assayids)"
   ]
  },
  {
   "cell_type": "code",
   "execution_count": 67,
   "metadata": {
    "collapsed": false
   },
   "outputs": [
    {
     "name": "stderr",
     "output_type": "stream",
     "text": [
      "nmf.py:1169: ConvergenceWarning: Maximum number of iteration 300 reached. Increase it to improve convergence.\n",
      "  \" improve convergence.\" % max_iter, ConvergenceWarning)\n"
     ]
    }
   ],
   "source": [
    "#let's see what happens with the defaults\n",
    "model = nmf.NMF(solver='mu',max_iter=300) #mu required for missing value support\n",
    "W = model.fit_transform(randomtrain_m)\n",
    "H = model.components_"
   ]
  },
  {
   "cell_type": "code",
   "execution_count": 68,
   "metadata": {
    "collapsed": false
   },
   "outputs": [
    {
     "data": {
      "text/plain": [
       "((13190, 159), (159, 159))"
      ]
     },
     "execution_count": 68,
     "metadata": {},
     "output_type": "execute_result"
    }
   ],
   "source": [
    "W.shape,H.shape"
   ]
  },
  {
   "cell_type": "code",
   "execution_count": 90,
   "metadata": {
    "collapsed": true
   },
   "outputs": [],
   "source": [
    "def getpred(pred, data, cmpdids, assayids):\n",
    "    '''return tuples of (true value, predicted value)'''    \n",
    "    ret = []\n",
    "    for (ri, row) in data.iterrows():\n",
    "        i = cmpdids[row.ID]\n",
    "        j = assayids[row.AssayID]\n",
    "        pval = pred[i][j]\n",
    "        ret.append((row.pIC50_exp,pval))\n",
    "    return np.array(ret)"
   ]
  },
  {
   "cell_type": "code",
   "execution_count": 91,
   "metadata": {
    "collapsed": false
   },
   "outputs": [],
   "source": [
    "pred = np.matmul(W,H)\n",
    "trainpred = getpred(pred,randomtrain, cmpdids, assayids)\n",
    "testpred = getpred(pred,randomtest,cmpdids,assayids)"
   ]
  },
  {
   "cell_type": "code",
   "execution_count": 92,
   "metadata": {
    "collapsed": false
   },
   "outputs": [
    {
     "name": "stdout",
     "output_type": "stream",
     "text": [
      "Pearson R, train = 0.988833933768 test = 0.320250426287\n"
     ]
    }
   ],
   "source": [
    "print \"Pearson R, train =\",np.corrcoef(trainpred.T)[0][1],\"test =\",np.corrcoef(testpred.T)[0][1]"
   ]
  },
  {
   "cell_type": "markdown",
   "metadata": {},
   "source": [
    "Clearly we are overfitting.."
   ]
  },
  {
   "cell_type": "code",
   "execution_count": 93,
   "metadata": {
    "collapsed": false
   },
   "outputs": [
    {
     "data": {
      "text/plain": [
       "(0, 12)"
      ]
     },
     "execution_count": 93,
     "metadata": {},
     "output_type": "execute_result"
    },
    {
     "data": {
      "image/png": "[encoded data removed]",
      "text/plain": [
       "<matplotlib.figure.Figure at 0x125c03ad0>"
      ]
     },
     "metadata": {},
     "output_type": "display_data"
    }
   ],
   "source": [
    "fig = plt.figure(figsize=(8,4))\n",
    "ax = plt.subplot(1,2,1)\n",
    "ax.plot(trainpred[:,0],trainpred[:,1],'o',alpha=.1,markeredgewidth=0)\n",
    "ax.set_aspect('equal')\n",
    "ax.set_xlabel('Experimental')\n",
    "ax.set_ylabel('Predicted')\n",
    "ax.set_title(\"Training Set\")\n",
    "ax.set_ylim(0,12)\n",
    "ax.set_xlim(0,12)\n",
    "\n",
    "ax = plt.subplot(1,2,2)\n",
    "ax.plot(testpred[:,0],testpred[:,1],'o',alpha=.1,markeredgewidth=0)\n",
    "ax.set_aspect('equal')\n",
    "ax.set_xlabel('Experimental')\n",
    "ax.set_title(\"Test Set\")\n",
    "ax.set_ylim(0,12)\n",
    "ax.set_xlim(0,12)"
   ]
  },
  {
   "cell_type": "markdown",
   "metadata": {},
   "source": [
    "Huh, so actually if you remove the zero-predicted values it's not so bad..."
   ]
  },
  {
   "cell_type": "code",
   "execution_count": 100,
   "metadata": {
    "collapsed": false
   },
   "outputs": [
    {
     "name": "stdout",
     "output_type": "stream",
     "text": [
      " Pearson R = 0.70079172885 RMSE 0.615338902088\n"
     ]
    }
   ],
   "source": [
    "from sklearn.metrics import mean_squared_error\n",
    "testnotzero = testpred[testpred[:,1] > 0]\n",
    "print \"Pearson R =\",np.corrcoef(testnotzero.T)[0][1],\"RMSE\", mean_squared_error(testnotzero[:,0],testnotzero[:,1])"
   ]
  },
  {
   "cell_type": "markdown",
   "metadata": {},
   "source": [
    "90% are non-zero"
   ]
  },
  {
   "cell_type": "code",
   "execution_count": 98,
   "metadata": {
    "collapsed": false
   },
   "outputs": [
    {
     "data": {
      "text/plain": [
       "0.9007293639105126"
      ]
     },
     "execution_count": 98,
     "metadata": {},
     "output_type": "execute_result"
    }
   ],
   "source": [
    "len(testnotzero)/float(len(testpred))"
   ]
  },
  {
   "cell_type": "markdown",
   "metadata": {},
   "source": [
    "So what happens if we optimize the model parameters?\n",
    " * *alpha* - amount of regularization (default 0)\n",
    " * *l1_ratio* - L1 vs L2 ratio, default 0 is all L2\n",
    " * *n_components* - number of components (default all) "
   ]
  },
  {
   "cell_type": "code",
   "execution_count": 106,
   "metadata": {
    "collapsed": false
   },
   "outputs": [],
   "source": [
    "#this takes a loooong time despite being a rather course grid search\n",
    "results = []\n",
    "for alpha in [0,0.01,1]:\n",
    "    for l1_ratio in [0,0.5,1]:\n",
    "            for ncomponents in range(9,160,10):\n",
    "                model = nmf.NMF(solver='mu',alpha=alpha,l1_ratio=l1_ratio,n_components=ncomponents,init='random')\n",
    "                W = model.fit_transform(randomtrain_m)\n",
    "                H = model.components_\n",
    "                pred = np.matmul(W,H)\n",
    "                trainpred = getpred(pred,randomtrain, cmpdids, assayids)\n",
    "                testpred = getpred(pred,randomtest,cmpdids,assayids)\n",
    "                testnotzero = testpred[testpred[:,1] > 0]\n",
    "                trainR = np.corrcoef(trainpred.T)[0][1]\n",
    "                testR = np.corrcoef(testpred.T)[0][1]\n",
    "                testRnz = np.corrcoef(testnotzero.T)[0][1]\n",
    "\n",
    "                trainRMS = mean_squared_error(trainpred[:,0],trainpred[:,1])\n",
    "                testRMS = mean_squared_error(testpred[:,0],testpred[:,1])\n",
    "                testRMSnz = mean_squared_error(testnotzero[:,0],testnotzero[:,1])\n",
    "                results.append((alpha,l1_ratio,ncomponents,trainR,trainRMS, testR,testRMS, testRnz,testRMSnz))\n",
    "                "
   ]
  },
  {
   "cell_type": "code",
   "execution_count": 107,
   "metadata": {
    "collapsed": false
   },
   "outputs": [],
   "source": [
    "gridres = pd.DataFrame(results,columns=['alpha','l1_ratio','ncomponents','trainR','trainRMS','testR','testRMS','testRnz','testRMSnz'])"
   ]
  },
  {
   "cell_type": "code",
   "execution_count": 115,
   "metadata": {
    "collapsed": false,
    "scrolled": true
   },
   "outputs": [
    {
     "data": {
      "text/html": [
       "<div>\n",
       "<table border=\"1\" class=\"dataframe\">\n",
       "  <thead>\n",
       "    <tr style=\"text-align: right;\">\n",
       "      <th></th>\n",
       "      <th>alpha</th>\n",
       "      <th>l1_ratio</th>\n",
       "      <th>ncomponents</th>\n",
       "      <th>trainR</th>\n",
       "      <th>trainRMS</th>\n",
       "      <th>testR</th>\n",
       "      <th>testRMS</th>\n",
       "      <th>testRnz</th>\n",
       "      <th>testRMSnz</th>\n",
       "    </tr>\n",
       "  </thead>\n",
       "  <tbody>\n",
       "    <tr>\n",
       "      <th>17</th>\n",
       "      <td>0.00</td>\n",
       "      <td>0.5</td>\n",
       "      <td>19</td>\n",
       "      <td>0.897496</td>\n",
       "      <td>0.218757</td>\n",
       "      <td>0.351062</td>\n",
       "      <td>3.135017</td>\n",
       "      <td>0.749154</td>\n",
       "      <td>0.525687</td>\n",
       "    </tr>\n",
       "    <tr>\n",
       "      <th>49</th>\n",
       "      <td>0.01</td>\n",
       "      <td>0.0</td>\n",
       "      <td>19</td>\n",
       "      <td>0.895893</td>\n",
       "      <td>0.221999</td>\n",
       "      <td>0.345007</td>\n",
       "      <td>3.133474</td>\n",
       "      <td>0.746757</td>\n",
       "      <td>0.523973</td>\n",
       "    </tr>\n",
       "    <tr>\n",
       "      <th>48</th>\n",
       "      <td>0.01</td>\n",
       "      <td>0.0</td>\n",
       "      <td>9</td>\n",
       "      <td>0.853846</td>\n",
       "      <td>0.304600</td>\n",
       "      <td>0.336436</td>\n",
       "      <td>3.128160</td>\n",
       "      <td>0.746074</td>\n",
       "      <td>0.518074</td>\n",
       "    </tr>\n",
       "    <tr>\n",
       "      <th>64</th>\n",
       "      <td>0.01</td>\n",
       "      <td>0.5</td>\n",
       "      <td>9</td>\n",
       "      <td>0.853457</td>\n",
       "      <td>0.305363</td>\n",
       "      <td>0.336124</td>\n",
       "      <td>3.130627</td>\n",
       "      <td>0.744815</td>\n",
       "      <td>0.520812</td>\n",
       "    </tr>\n",
       "    <tr>\n",
       "      <th>80</th>\n",
       "      <td>0.01</td>\n",
       "      <td>1.0</td>\n",
       "      <td>9</td>\n",
       "      <td>0.847685</td>\n",
       "      <td>0.316377</td>\n",
       "      <td>0.332914</td>\n",
       "      <td>3.128409</td>\n",
       "      <td>0.744811</td>\n",
       "      <td>0.518350</td>\n",
       "    </tr>\n",
       "    <tr>\n",
       "      <th>0</th>\n",
       "      <td>0.00</td>\n",
       "      <td>0.0</td>\n",
       "      <td>9</td>\n",
       "      <td>0.852756</td>\n",
       "      <td>0.306677</td>\n",
       "      <td>0.333619</td>\n",
       "      <td>3.137728</td>\n",
       "      <td>0.740821</td>\n",
       "      <td>0.528697</td>\n",
       "    </tr>\n",
       "    <tr>\n",
       "      <th>32</th>\n",
       "      <td>0.00</td>\n",
       "      <td>1.0</td>\n",
       "      <td>9</td>\n",
       "      <td>0.851275</td>\n",
       "      <td>0.309530</td>\n",
       "      <td>0.332239</td>\n",
       "      <td>3.141158</td>\n",
       "      <td>0.738713</td>\n",
       "      <td>0.532504</td>\n",
       "    </tr>\n",
       "    <tr>\n",
       "      <th>65</th>\n",
       "      <td>0.01</td>\n",
       "      <td>0.5</td>\n",
       "      <td>19</td>\n",
       "      <td>0.894742</td>\n",
       "      <td>0.224290</td>\n",
       "      <td>0.347199</td>\n",
       "      <td>3.156005</td>\n",
       "      <td>0.737909</td>\n",
       "      <td>0.548988</td>\n",
       "    </tr>\n",
       "    <tr>\n",
       "      <th>16</th>\n",
       "      <td>0.00</td>\n",
       "      <td>0.5</td>\n",
       "      <td>9</td>\n",
       "      <td>0.850804</td>\n",
       "      <td>0.310448</td>\n",
       "      <td>0.331108</td>\n",
       "      <td>3.146233</td>\n",
       "      <td>0.735873</td>\n",
       "      <td>0.538139</td>\n",
       "    </tr>\n",
       "    <tr>\n",
       "      <th>1</th>\n",
       "      <td>0.00</td>\n",
       "      <td>0.0</td>\n",
       "      <td>19</td>\n",
       "      <td>0.892909</td>\n",
       "      <td>0.227987</td>\n",
       "      <td>0.341230</td>\n",
       "      <td>3.156323</td>\n",
       "      <td>0.735633</td>\n",
       "      <td>0.549341</td>\n",
       "    </tr>\n",
       "    <tr>\n",
       "      <th>3</th>\n",
       "      <td>0.00</td>\n",
       "      <td>0.0</td>\n",
       "      <td>39</td>\n",
       "      <td>0.936501</td>\n",
       "      <td>0.138474</td>\n",
       "      <td>0.349197</td>\n",
       "      <td>3.165489</td>\n",
       "      <td>0.735627</td>\n",
       "      <td>0.559516</td>\n",
       "    </tr>\n",
       "    <tr>\n",
       "      <th>96</th>\n",
       "      <td>1.00</td>\n",
       "      <td>0.0</td>\n",
       "      <td>9</td>\n",
       "      <td>0.849322</td>\n",
       "      <td>0.313436</td>\n",
       "      <td>0.330595</td>\n",
       "      <td>3.146524</td>\n",
       "      <td>0.735261</td>\n",
       "      <td>0.538462</td>\n",
       "    </tr>\n",
       "    <tr>\n",
       "      <th>81</th>\n",
       "      <td>0.01</td>\n",
       "      <td>1.0</td>\n",
       "      <td>19</td>\n",
       "      <td>0.893246</td>\n",
       "      <td>0.227307</td>\n",
       "      <td>0.343884</td>\n",
       "      <td>3.158834</td>\n",
       "      <td>0.735195</td>\n",
       "      <td>0.552128</td>\n",
       "    </tr>\n",
       "    <tr>\n",
       "      <th>33</th>\n",
       "      <td>0.00</td>\n",
       "      <td>1.0</td>\n",
       "      <td>19</td>\n",
       "      <td>0.895509</td>\n",
       "      <td>0.222766</td>\n",
       "      <td>0.342527</td>\n",
       "      <td>3.161037</td>\n",
       "      <td>0.734060</td>\n",
       "      <td>0.554574</td>\n",
       "    </tr>\n",
       "    <tr>\n",
       "      <th>18</th>\n",
       "      <td>0.00</td>\n",
       "      <td>0.5</td>\n",
       "      <td>29</td>\n",
       "      <td>0.918209</td>\n",
       "      <td>0.176636</td>\n",
       "      <td>0.343260</td>\n",
       "      <td>3.163233</td>\n",
       "      <td>0.733690</td>\n",
       "      <td>0.557012</td>\n",
       "    </tr>\n",
       "    <tr>\n",
       "      <th>98</th>\n",
       "      <td>1.00</td>\n",
       "      <td>0.0</td>\n",
       "      <td>29</td>\n",
       "      <td>0.920201</td>\n",
       "      <td>0.172993</td>\n",
       "      <td>0.343652</td>\n",
       "      <td>3.164309</td>\n",
       "      <td>0.732641</td>\n",
       "      <td>0.558207</td>\n",
       "    </tr>\n",
       "    <tr>\n",
       "      <th>97</th>\n",
       "      <td>1.00</td>\n",
       "      <td>0.0</td>\n",
       "      <td>19</td>\n",
       "      <td>0.896446</td>\n",
       "      <td>0.221282</td>\n",
       "      <td>0.338880</td>\n",
       "      <td>3.159617</td>\n",
       "      <td>0.732540</td>\n",
       "      <td>0.552998</td>\n",
       "    </tr>\n",
       "    <tr>\n",
       "      <th>35</th>\n",
       "      <td>0.00</td>\n",
       "      <td>1.0</td>\n",
       "      <td>39</td>\n",
       "      <td>0.935991</td>\n",
       "      <td>0.139606</td>\n",
       "      <td>0.346667</td>\n",
       "      <td>3.176061</td>\n",
       "      <td>0.730270</td>\n",
       "      <td>0.571254</td>\n",
       "    </tr>\n",
       "    <tr>\n",
       "      <th>50</th>\n",
       "      <td>0.01</td>\n",
       "      <td>0.0</td>\n",
       "      <td>29</td>\n",
       "      <td>0.920078</td>\n",
       "      <td>0.172685</td>\n",
       "      <td>0.344735</td>\n",
       "      <td>3.175152</td>\n",
       "      <td>0.728960</td>\n",
       "      <td>0.570245</td>\n",
       "    </tr>\n",
       "    <tr>\n",
       "      <th>82</th>\n",
       "      <td>0.01</td>\n",
       "      <td>1.0</td>\n",
       "      <td>29</td>\n",
       "      <td>0.917642</td>\n",
       "      <td>0.177741</td>\n",
       "      <td>0.345032</td>\n",
       "      <td>3.180834</td>\n",
       "      <td>0.726672</td>\n",
       "      <td>0.576553</td>\n",
       "    </tr>\n",
       "    <tr>\n",
       "      <th>34</th>\n",
       "      <td>0.00</td>\n",
       "      <td>1.0</td>\n",
       "      <td>29</td>\n",
       "      <td>0.918520</td>\n",
       "      <td>0.175956</td>\n",
       "      <td>0.341941</td>\n",
       "      <td>3.180295</td>\n",
       "      <td>0.726020</td>\n",
       "      <td>0.575955</td>\n",
       "    </tr>\n",
       "    <tr>\n",
       "      <th>20</th>\n",
       "      <td>0.00</td>\n",
       "      <td>0.5</td>\n",
       "      <td>49</td>\n",
       "      <td>0.947152</td>\n",
       "      <td>0.116048</td>\n",
       "      <td>0.343556</td>\n",
       "      <td>3.192606</td>\n",
       "      <td>0.722224</td>\n",
       "      <td>0.589623</td>\n",
       "    </tr>\n",
       "    <tr>\n",
       "      <th>19</th>\n",
       "      <td>0.00</td>\n",
       "      <td>0.5</td>\n",
       "      <td>39</td>\n",
       "      <td>0.936814</td>\n",
       "      <td>0.137881</td>\n",
       "      <td>0.341648</td>\n",
       "      <td>3.190338</td>\n",
       "      <td>0.721885</td>\n",
       "      <td>0.587104</td>\n",
       "    </tr>\n",
       "    <tr>\n",
       "      <th>2</th>\n",
       "      <td>0.00</td>\n",
       "      <td>0.0</td>\n",
       "      <td>29</td>\n",
       "      <td>0.919156</td>\n",
       "      <td>0.174593</td>\n",
       "      <td>0.340835</td>\n",
       "      <td>3.190004</td>\n",
       "      <td>0.721586</td>\n",
       "      <td>0.586733</td>\n",
       "    </tr>\n",
       "    <tr>\n",
       "      <th>36</th>\n",
       "      <td>0.00</td>\n",
       "      <td>1.0</td>\n",
       "      <td>49</td>\n",
       "      <td>0.946689</td>\n",
       "      <td>0.117019</td>\n",
       "      <td>0.342544</td>\n",
       "      <td>3.195333</td>\n",
       "      <td>0.720799</td>\n",
       "      <td>0.592650</td>\n",
       "    </tr>\n",
       "    <tr>\n",
       "      <th>67</th>\n",
       "      <td>0.01</td>\n",
       "      <td>0.5</td>\n",
       "      <td>39</td>\n",
       "      <td>0.935238</td>\n",
       "      <td>0.141173</td>\n",
       "      <td>0.343461</td>\n",
       "      <td>3.195783</td>\n",
       "      <td>0.720003</td>\n",
       "      <td>0.593150</td>\n",
       "    </tr>\n",
       "    <tr>\n",
       "      <th>99</th>\n",
       "      <td>1.00</td>\n",
       "      <td>0.0</td>\n",
       "      <td>39</td>\n",
       "      <td>0.937656</td>\n",
       "      <td>0.136831</td>\n",
       "      <td>0.337188</td>\n",
       "      <td>3.190079</td>\n",
       "      <td>0.718865</td>\n",
       "      <td>0.586817</td>\n",
       "    </tr>\n",
       "    <tr>\n",
       "      <th>51</th>\n",
       "      <td>0.01</td>\n",
       "      <td>0.0</td>\n",
       "      <td>39</td>\n",
       "      <td>0.935432</td>\n",
       "      <td>0.140771</td>\n",
       "      <td>0.337380</td>\n",
       "      <td>3.193267</td>\n",
       "      <td>0.718017</td>\n",
       "      <td>0.590357</td>\n",
       "    </tr>\n",
       "    <tr>\n",
       "      <th>4</th>\n",
       "      <td>0.00</td>\n",
       "      <td>0.0</td>\n",
       "      <td>49</td>\n",
       "      <td>0.947271</td>\n",
       "      <td>0.115782</td>\n",
       "      <td>0.341983</td>\n",
       "      <td>3.201937</td>\n",
       "      <td>0.717584</td>\n",
       "      <td>0.599981</td>\n",
       "    </tr>\n",
       "    <tr>\n",
       "      <th>52</th>\n",
       "      <td>0.01</td>\n",
       "      <td>0.0</td>\n",
       "      <td>49</td>\n",
       "      <td>0.949049</td>\n",
       "      <td>0.111997</td>\n",
       "      <td>0.343160</td>\n",
       "      <td>3.205860</td>\n",
       "      <td>0.716155</td>\n",
       "      <td>0.604337</td>\n",
       "    </tr>\n",
       "    <tr>\n",
       "      <th>...</th>\n",
       "      <td>...</td>\n",
       "      <td>...</td>\n",
       "      <td>...</td>\n",
       "      <td>...</td>\n",
       "      <td>...</td>\n",
       "      <td>...</td>\n",
       "      <td>...</td>\n",
       "      <td>...</td>\n",
       "      <td>...</td>\n",
       "    </tr>\n",
       "    <tr>\n",
       "      <th>94</th>\n",
       "      <td>0.01</td>\n",
       "      <td>1.0</td>\n",
       "      <td>149</td>\n",
       "      <td>0.987481</td>\n",
       "      <td>0.028326</td>\n",
       "      <td>0.308754</td>\n",
       "      <td>3.309435</td>\n",
       "      <td>0.656700</td>\n",
       "      <td>0.719327</td>\n",
       "    </tr>\n",
       "    <tr>\n",
       "      <th>129</th>\n",
       "      <td>1.00</td>\n",
       "      <td>1.0</td>\n",
       "      <td>19</td>\n",
       "      <td>0.894781</td>\n",
       "      <td>0.224207</td>\n",
       "      <td>0.331533</td>\n",
       "      <td>3.387850</td>\n",
       "      <td>0.648863</td>\n",
       "      <td>0.806385</td>\n",
       "    </tr>\n",
       "    <tr>\n",
       "      <th>115</th>\n",
       "      <td>1.00</td>\n",
       "      <td>0.5</td>\n",
       "      <td>39</td>\n",
       "      <td>0.936454</td>\n",
       "      <td>0.138869</td>\n",
       "      <td>0.325955</td>\n",
       "      <td>3.380582</td>\n",
       "      <td>0.646446</td>\n",
       "      <td>0.798316</td>\n",
       "    </tr>\n",
       "    <tr>\n",
       "      <th>116</th>\n",
       "      <td>1.00</td>\n",
       "      <td>0.5</td>\n",
       "      <td>49</td>\n",
       "      <td>0.947281</td>\n",
       "      <td>0.116119</td>\n",
       "      <td>0.323154</td>\n",
       "      <td>3.386184</td>\n",
       "      <td>0.642690</td>\n",
       "      <td>0.804534</td>\n",
       "    </tr>\n",
       "    <tr>\n",
       "      <th>128</th>\n",
       "      <td>1.00</td>\n",
       "      <td>1.0</td>\n",
       "      <td>9</td>\n",
       "      <td>0.853494</td>\n",
       "      <td>0.305263</td>\n",
       "      <td>0.325061</td>\n",
       "      <td>3.399742</td>\n",
       "      <td>0.640458</td>\n",
       "      <td>0.819587</td>\n",
       "    </tr>\n",
       "    <tr>\n",
       "      <th>119</th>\n",
       "      <td>1.00</td>\n",
       "      <td>0.5</td>\n",
       "      <td>79</td>\n",
       "      <td>0.968446</td>\n",
       "      <td>0.070802</td>\n",
       "      <td>0.315609</td>\n",
       "      <td>3.379351</td>\n",
       "      <td>0.638945</td>\n",
       "      <td>0.796949</td>\n",
       "    </tr>\n",
       "    <tr>\n",
       "      <th>117</th>\n",
       "      <td>1.00</td>\n",
       "      <td>0.5</td>\n",
       "      <td>59</td>\n",
       "      <td>0.956508</td>\n",
       "      <td>0.096477</td>\n",
       "      <td>0.318748</td>\n",
       "      <td>3.388268</td>\n",
       "      <td>0.638634</td>\n",
       "      <td>0.806848</td>\n",
       "    </tr>\n",
       "    <tr>\n",
       "      <th>122</th>\n",
       "      <td>1.00</td>\n",
       "      <td>0.5</td>\n",
       "      <td>109</td>\n",
       "      <td>0.980060</td>\n",
       "      <td>0.045448</td>\n",
       "      <td>0.313117</td>\n",
       "      <td>3.423218</td>\n",
       "      <td>0.624859</td>\n",
       "      <td>0.845650</td>\n",
       "    </tr>\n",
       "    <tr>\n",
       "      <th>118</th>\n",
       "      <td>1.00</td>\n",
       "      <td>0.5</td>\n",
       "      <td>69</td>\n",
       "      <td>0.963960</td>\n",
       "      <td>0.080488</td>\n",
       "      <td>0.314605</td>\n",
       "      <td>3.432561</td>\n",
       "      <td>0.623081</td>\n",
       "      <td>0.856023</td>\n",
       "    </tr>\n",
       "    <tr>\n",
       "      <th>124</th>\n",
       "      <td>1.00</td>\n",
       "      <td>0.5</td>\n",
       "      <td>129</td>\n",
       "      <td>0.984286</td>\n",
       "      <td>0.036118</td>\n",
       "      <td>0.307910</td>\n",
       "      <td>3.424240</td>\n",
       "      <td>0.620832</td>\n",
       "      <td>0.846785</td>\n",
       "    </tr>\n",
       "    <tr>\n",
       "      <th>120</th>\n",
       "      <td>1.00</td>\n",
       "      <td>0.5</td>\n",
       "      <td>89</td>\n",
       "      <td>0.973185</td>\n",
       "      <td>0.060506</td>\n",
       "      <td>0.311182</td>\n",
       "      <td>3.438198</td>\n",
       "      <td>0.618710</td>\n",
       "      <td>0.862282</td>\n",
       "    </tr>\n",
       "    <tr>\n",
       "      <th>123</th>\n",
       "      <td>1.00</td>\n",
       "      <td>0.5</td>\n",
       "      <td>119</td>\n",
       "      <td>0.982209</td>\n",
       "      <td>0.040719</td>\n",
       "      <td>0.306817</td>\n",
       "      <td>3.470733</td>\n",
       "      <td>0.607065</td>\n",
       "      <td>0.898402</td>\n",
       "    </tr>\n",
       "    <tr>\n",
       "      <th>125</th>\n",
       "      <td>1.00</td>\n",
       "      <td>0.5</td>\n",
       "      <td>139</td>\n",
       "      <td>0.985676</td>\n",
       "      <td>0.033093</td>\n",
       "      <td>0.297797</td>\n",
       "      <td>3.463607</td>\n",
       "      <td>0.601521</td>\n",
       "      <td>0.890490</td>\n",
       "    </tr>\n",
       "    <tr>\n",
       "      <th>121</th>\n",
       "      <td>1.00</td>\n",
       "      <td>0.5</td>\n",
       "      <td>99</td>\n",
       "      <td>0.976864</td>\n",
       "      <td>0.052482</td>\n",
       "      <td>0.303643</td>\n",
       "      <td>3.492258</td>\n",
       "      <td>0.598352</td>\n",
       "      <td>0.922300</td>\n",
       "    </tr>\n",
       "    <tr>\n",
       "      <th>126</th>\n",
       "      <td>1.00</td>\n",
       "      <td>0.5</td>\n",
       "      <td>149</td>\n",
       "      <td>0.987306</td>\n",
       "      <td>0.029456</td>\n",
       "      <td>0.300032</td>\n",
       "      <td>3.484603</td>\n",
       "      <td>0.598247</td>\n",
       "      <td>0.913800</td>\n",
       "    </tr>\n",
       "    <tr>\n",
       "      <th>134</th>\n",
       "      <td>1.00</td>\n",
       "      <td>1.0</td>\n",
       "      <td>69</td>\n",
       "      <td>0.962896</td>\n",
       "      <td>0.082351</td>\n",
       "      <td>0.309761</td>\n",
       "      <td>3.520294</td>\n",
       "      <td>0.596875</td>\n",
       "      <td>0.953425</td>\n",
       "    </tr>\n",
       "    <tr>\n",
       "      <th>132</th>\n",
       "      <td>1.00</td>\n",
       "      <td>1.0</td>\n",
       "      <td>49</td>\n",
       "      <td>0.947195</td>\n",
       "      <td>0.115921</td>\n",
       "      <td>0.319540</td>\n",
       "      <td>3.579737</td>\n",
       "      <td>0.592892</td>\n",
       "      <td>1.019420</td>\n",
       "    </tr>\n",
       "    <tr>\n",
       "      <th>133</th>\n",
       "      <td>1.00</td>\n",
       "      <td>1.0</td>\n",
       "      <td>59</td>\n",
       "      <td>0.956135</td>\n",
       "      <td>0.096865</td>\n",
       "      <td>0.313588</td>\n",
       "      <td>3.566188</td>\n",
       "      <td>0.590021</td>\n",
       "      <td>1.004378</td>\n",
       "    </tr>\n",
       "    <tr>\n",
       "      <th>127</th>\n",
       "      <td>1.00</td>\n",
       "      <td>0.5</td>\n",
       "      <td>159</td>\n",
       "      <td>0.988728</td>\n",
       "      <td>0.026303</td>\n",
       "      <td>0.292037</td>\n",
       "      <td>3.504410</td>\n",
       "      <td>0.586371</td>\n",
       "      <td>0.935791</td>\n",
       "    </tr>\n",
       "    <tr>\n",
       "      <th>131</th>\n",
       "      <td>1.00</td>\n",
       "      <td>1.0</td>\n",
       "      <td>39</td>\n",
       "      <td>0.934574</td>\n",
       "      <td>0.142564</td>\n",
       "      <td>0.313302</td>\n",
       "      <td>3.634684</td>\n",
       "      <td>0.576076</td>\n",
       "      <td>1.080422</td>\n",
       "    </tr>\n",
       "    <tr>\n",
       "      <th>135</th>\n",
       "      <td>1.00</td>\n",
       "      <td>1.0</td>\n",
       "      <td>79</td>\n",
       "      <td>0.969351</td>\n",
       "      <td>0.068358</td>\n",
       "      <td>0.303999</td>\n",
       "      <td>3.608892</td>\n",
       "      <td>0.572054</td>\n",
       "      <td>1.051788</td>\n",
       "    </tr>\n",
       "    <tr>\n",
       "      <th>130</th>\n",
       "      <td>1.00</td>\n",
       "      <td>1.0</td>\n",
       "      <td>29</td>\n",
       "      <td>0.919575</td>\n",
       "      <td>0.173727</td>\n",
       "      <td>0.314623</td>\n",
       "      <td>3.716985</td>\n",
       "      <td>0.563331</td>\n",
       "      <td>1.171794</td>\n",
       "    </tr>\n",
       "    <tr>\n",
       "      <th>136</th>\n",
       "      <td>1.00</td>\n",
       "      <td>1.0</td>\n",
       "      <td>89</td>\n",
       "      <td>0.973115</td>\n",
       "      <td>0.060158</td>\n",
       "      <td>0.295935</td>\n",
       "      <td>3.632881</td>\n",
       "      <td>0.559305</td>\n",
       "      <td>1.078421</td>\n",
       "    </tr>\n",
       "    <tr>\n",
       "      <th>139</th>\n",
       "      <td>1.00</td>\n",
       "      <td>1.0</td>\n",
       "      <td>119</td>\n",
       "      <td>0.982380</td>\n",
       "      <td>0.039896</td>\n",
       "      <td>0.294953</td>\n",
       "      <td>3.698381</td>\n",
       "      <td>0.546614</td>\n",
       "      <td>1.151139</td>\n",
       "    </tr>\n",
       "    <tr>\n",
       "      <th>137</th>\n",
       "      <td>1.00</td>\n",
       "      <td>1.0</td>\n",
       "      <td>99</td>\n",
       "      <td>0.977199</td>\n",
       "      <td>0.051230</td>\n",
       "      <td>0.295493</td>\n",
       "      <td>3.704212</td>\n",
       "      <td>0.545782</td>\n",
       "      <td>1.157613</td>\n",
       "    </tr>\n",
       "    <tr>\n",
       "      <th>143</th>\n",
       "      <td>1.00</td>\n",
       "      <td>1.0</td>\n",
       "      <td>159</td>\n",
       "      <td>0.989262</td>\n",
       "      <td>0.024756</td>\n",
       "      <td>0.286989</td>\n",
       "      <td>3.675698</td>\n",
       "      <td>0.543998</td>\n",
       "      <td>1.125957</td>\n",
       "    </tr>\n",
       "    <tr>\n",
       "      <th>140</th>\n",
       "      <td>1.00</td>\n",
       "      <td>1.0</td>\n",
       "      <td>129</td>\n",
       "      <td>0.984115</td>\n",
       "      <td>0.036104</td>\n",
       "      <td>0.290116</td>\n",
       "      <td>3.720266</td>\n",
       "      <td>0.537997</td>\n",
       "      <td>1.175437</td>\n",
       "    </tr>\n",
       "    <tr>\n",
       "      <th>142</th>\n",
       "      <td>1.00</td>\n",
       "      <td>1.0</td>\n",
       "      <td>149</td>\n",
       "      <td>0.987739</td>\n",
       "      <td>0.028131</td>\n",
       "      <td>0.286958</td>\n",
       "      <td>3.705514</td>\n",
       "      <td>0.537727</td>\n",
       "      <td>1.159059</td>\n",
       "    </tr>\n",
       "    <tr>\n",
       "      <th>141</th>\n",
       "      <td>1.00</td>\n",
       "      <td>1.0</td>\n",
       "      <td>139</td>\n",
       "      <td>0.986116</td>\n",
       "      <td>0.031696</td>\n",
       "      <td>0.289056</td>\n",
       "      <td>3.726871</td>\n",
       "      <td>0.535825</td>\n",
       "      <td>1.182769</td>\n",
       "    </tr>\n",
       "    <tr>\n",
       "      <th>138</th>\n",
       "      <td>1.00</td>\n",
       "      <td>1.0</td>\n",
       "      <td>109</td>\n",
       "      <td>0.979743</td>\n",
       "      <td>0.045703</td>\n",
       "      <td>0.288559</td>\n",
       "      <td>3.774388</td>\n",
       "      <td>0.526338</td>\n",
       "      <td>1.235524</td>\n",
       "    </tr>\n",
       "  </tbody>\n",
       "</table>\n",
       "<p>144 rows × 9 columns</p>\n",
       "</div>"
      ],
      "text/plain": [
       "     alpha  l1_ratio  ncomponents    trainR  trainRMS     testR   testRMS  \\\n",
       "17    0.00       0.5           19  0.897496  0.218757  0.351062  3.135017   \n",
       "49    0.01       0.0           19  0.895893  0.221999  0.345007  3.133474   \n",
       "48    0.01       0.0            9  0.853846  0.304600  0.336436  3.128160   \n",
       "64    0.01       0.5            9  0.853457  0.305363  0.336124  3.130627   \n",
       "80    0.01       1.0            9  0.847685  0.316377  0.332914  3.128409   \n",
       "0     0.00       0.0            9  0.852756  0.306677  0.333619  3.137728   \n",
       "32    0.00       1.0            9  0.851275  0.309530  0.332239  3.141158   \n",
       "65    0.01       0.5           19  0.894742  0.224290  0.347199  3.156005   \n",
       "16    0.00       0.5            9  0.850804  0.310448  0.331108  3.146233   \n",
       "1     0.00       0.0           19  0.892909  0.227987  0.341230  3.156323   \n",
       "3     0.00       0.0           39  0.936501  0.138474  0.349197  3.165489   \n",
       "96    1.00       0.0            9  0.849322  0.313436  0.330595  3.146524   \n",
       "81    0.01       1.0           19  0.893246  0.227307  0.343884  3.158834   \n",
       "33    0.00       1.0           19  0.895509  0.222766  0.342527  3.161037   \n",
       "18    0.00       0.5           29  0.918209  0.176636  0.343260  3.163233   \n",
       "98    1.00       0.0           29  0.920201  0.172993  0.343652  3.164309   \n",
       "97    1.00       0.0           19  0.896446  0.221282  0.338880  3.159617   \n",
       "35    0.00       1.0           39  0.935991  0.139606  0.346667  3.176061   \n",
       "50    0.01       0.0           29  0.920078  0.172685  0.344735  3.175152   \n",
       "82    0.01       1.0           29  0.917642  0.177741  0.345032  3.180834   \n",
       "34    0.00       1.0           29  0.918520  0.175956  0.341941  3.180295   \n",
       "20    0.00       0.5           49  0.947152  0.116048  0.343556  3.192606   \n",
       "19    0.00       0.5           39  0.936814  0.137881  0.341648  3.190338   \n",
       "2     0.00       0.0           29  0.919156  0.174593  0.340835  3.190004   \n",
       "36    0.00       1.0           49  0.946689  0.117019  0.342544  3.195333   \n",
       "67    0.01       0.5           39  0.935238  0.141173  0.343461  3.195783   \n",
       "99    1.00       0.0           39  0.937656  0.136831  0.337188  3.190079   \n",
       "51    0.01       0.0           39  0.935432  0.140771  0.337380  3.193267   \n",
       "4     0.00       0.0           49  0.947271  0.115782  0.341983  3.201937   \n",
       "52    0.01       0.0           49  0.949049  0.111997  0.343160  3.205860   \n",
       "..     ...       ...          ...       ...       ...       ...       ...   \n",
       "94    0.01       1.0          149  0.987481  0.028326  0.308754  3.309435   \n",
       "129   1.00       1.0           19  0.894781  0.224207  0.331533  3.387850   \n",
       "115   1.00       0.5           39  0.936454  0.138869  0.325955  3.380582   \n",
       "116   1.00       0.5           49  0.947281  0.116119  0.323154  3.386184   \n",
       "128   1.00       1.0            9  0.853494  0.305263  0.325061  3.399742   \n",
       "119   1.00       0.5           79  0.968446  0.070802  0.315609  3.379351   \n",
       "117   1.00       0.5           59  0.956508  0.096477  0.318748  3.388268   \n",
       "122   1.00       0.5          109  0.980060  0.045448  0.313117  3.423218   \n",
       "118   1.00       0.5           69  0.963960  0.080488  0.314605  3.432561   \n",
       "124   1.00       0.5          129  0.984286  0.036118  0.307910  3.424240   \n",
       "120   1.00       0.5           89  0.973185  0.060506  0.311182  3.438198   \n",
       "123   1.00       0.5          119  0.982209  0.040719  0.306817  3.470733   \n",
       "125   1.00       0.5          139  0.985676  0.033093  0.297797  3.463607   \n",
       "121   1.00       0.5           99  0.976864  0.052482  0.303643  3.492258   \n",
       "126   1.00       0.5          149  0.987306  0.029456  0.300032  3.484603   \n",
       "134   1.00       1.0           69  0.962896  0.082351  0.309761  3.520294   \n",
       "132   1.00       1.0           49  0.947195  0.115921  0.319540  3.579737   \n",
       "133   1.00       1.0           59  0.956135  0.096865  0.313588  3.566188   \n",
       "127   1.00       0.5          159  0.988728  0.026303  0.292037  3.504410   \n",
       "131   1.00       1.0           39  0.934574  0.142564  0.313302  3.634684   \n",
       "135   1.00       1.0           79  0.969351  0.068358  0.303999  3.608892   \n",
       "130   1.00       1.0           29  0.919575  0.173727  0.314623  3.716985   \n",
       "136   1.00       1.0           89  0.973115  0.060158  0.295935  3.632881   \n",
       "139   1.00       1.0          119  0.982380  0.039896  0.294953  3.698381   \n",
       "137   1.00       1.0           99  0.977199  0.051230  0.295493  3.704212   \n",
       "143   1.00       1.0          159  0.989262  0.024756  0.286989  3.675698   \n",
       "140   1.00       1.0          129  0.984115  0.036104  0.290116  3.720266   \n",
       "142   1.00       1.0          149  0.987739  0.028131  0.286958  3.705514   \n",
       "141   1.00       1.0          139  0.986116  0.031696  0.289056  3.726871   \n",
       "138   1.00       1.0          109  0.979743  0.045703  0.288559  3.774388   \n",
       "\n",
       "      testRnz  testRMSnz  \n",
       "17   0.749154   0.525687  \n",
       "49   0.746757   0.523973  \n",
       "48   0.746074   0.518074  \n",
       "64   0.744815   0.520812  \n",
       "80   0.744811   0.518350  \n",
       "0    0.740821   0.528697  \n",
       "32   0.738713   0.532504  \n",
       "65   0.737909   0.548988  \n",
       "16   0.735873   0.538139  \n",
       "1    0.735633   0.549341  \n",
       "3    0.735627   0.559516  \n",
       "96   0.735261   0.538462  \n",
       "81   0.735195   0.552128  \n",
       "33   0.734060   0.554574  \n",
       "18   0.733690   0.557012  \n",
       "98   0.732641   0.558207  \n",
       "97   0.732540   0.552998  \n",
       "35   0.730270   0.571254  \n",
       "50   0.728960   0.570245  \n",
       "82   0.726672   0.576553  \n",
       "34   0.726020   0.575955  \n",
       "20   0.722224   0.589623  \n",
       "19   0.721885   0.587104  \n",
       "2    0.721586   0.586733  \n",
       "36   0.720799   0.592650  \n",
       "67   0.720003   0.593150  \n",
       "99   0.718865   0.586817  \n",
       "51   0.718017   0.590357  \n",
       "4    0.717584   0.599981  \n",
       "52   0.716155   0.604337  \n",
       "..        ...        ...  \n",
       "94   0.656700   0.719327  \n",
       "129  0.648863   0.806385  \n",
       "115  0.646446   0.798316  \n",
       "116  0.642690   0.804534  \n",
       "128  0.640458   0.819587  \n",
       "119  0.638945   0.796949  \n",
       "117  0.638634   0.806848  \n",
       "122  0.624859   0.845650  \n",
       "118  0.623081   0.856023  \n",
       "124  0.620832   0.846785  \n",
       "120  0.618710   0.862282  \n",
       "123  0.607065   0.898402  \n",
       "125  0.601521   0.890490  \n",
       "121  0.598352   0.922300  \n",
       "126  0.598247   0.913800  \n",
       "134  0.596875   0.953425  \n",
       "132  0.592892   1.019420  \n",
       "133  0.590021   1.004378  \n",
       "127  0.586371   0.935791  \n",
       "131  0.576076   1.080422  \n",
       "135  0.572054   1.051788  \n",
       "130  0.563331   1.171794  \n",
       "136  0.559305   1.078421  \n",
       "139  0.546614   1.151139  \n",
       "137  0.545782   1.157613  \n",
       "143  0.543998   1.125957  \n",
       "140  0.537997   1.175437  \n",
       "142  0.537727   1.159059  \n",
       "141  0.535825   1.182769  \n",
       "138  0.526338   1.235524  \n",
       "\n",
       "[144 rows x 9 columns]"
      ]
     },
     "execution_count": 115,
     "metadata": {},
     "output_type": "execute_result"
    }
   ],
   "source": [
    "gridres.sort_values('testRnz',ascending=False)"
   ]
  },
  {
   "cell_type": "code",
   "execution_count": 120,
   "metadata": {
    "collapsed": false
   },
   "outputs": [
    {
     "data": {
      "text/plain": [
       "<matplotlib.legend.Legend at 0x120a8fa50>"
      ]
     },
     "execution_count": 120,
     "metadata": {},
     "output_type": "execute_result"
    },
    {
     "data": {
      "image/png": "[encoded data removed]",
      "text/plain": [
       "<matplotlib.figure.Figure at 0x125b21610>"
      ]
     },
     "metadata": {},
     "output_type": "display_data"
    }
   ],
   "source": [
    "plt.hist(gridres.testR,label=\"Pearson R\")\n",
    "plt.hist(gridres.testRnz,label=\"R excluding zeroes\")\n",
    "plt.legend(loc='best')"
   ]
  },
  {
   "cell_type": "markdown",
   "metadata": {},
   "source": [
    "Interestingly, the best models didn't use L1/L2 regularization (alpha=0) but had a limited number of components (which is probably also effective at preventing overfitting)."
   ]
  },
  {
   "cell_type": "code",
   "execution_count": 129,
   "metadata": {
    "collapsed": true
   },
   "outputs": [],
   "source": [
    "secondresults = []\n",
    "for ncomponents in range(5,60,5):\n",
    "    model = nmf.NMF(solver='mu',n_components=ncomponents,init='random')\n",
    "    W = model.fit_transform(randomtrain_m)\n",
    "    H = model.components_\n",
    "    pred = np.matmul(W,H)\n",
    "    trainpred = getpred(pred,randomtrain, cmpdids, assayids)\n",
    "    testpred = getpred(pred,randomtest,cmpdids,assayids)\n",
    "    testnotzero = testpred[testpred[:,1] > 0]\n",
    "    trainR = np.corrcoef(trainpred.T)[0][1]\n",
    "    testR = np.corrcoef(testpred.T)[0][1]\n",
    "    testRnz = np.corrcoef(testnotzero.T)[0][1]\n",
    "\n",
    "    trainRMS = mean_squared_error(trainpred[:,0],trainpred[:,1])\n",
    "    testRMS = mean_squared_error(testpred[:,0],testpred[:,1])\n",
    "    testRMSnz = mean_squared_error(testnotzero[:,0],testnotzero[:,1])\n",
    "    secondresults.append((ncomponents,trainR,trainRMS, testR,testRMS, testRnz,testRMSnz))"
   ]
  },
  {
   "cell_type": "code",
   "execution_count": 130,
   "metadata": {
    "collapsed": true
   },
   "outputs": [],
   "source": [
    "grid2res = pd.DataFrame(secondresults,columns=['ncomponents','trainR','trainRMS','testR','testRMS','testRnz','testRMSnz'])"
   ]
  },
  {
   "cell_type": "code",
   "execution_count": 131,
   "metadata": {
    "collapsed": false
   },
   "outputs": [
    {
     "data": {
      "text/plain": [
       "<matplotlib.text.Text at 0x1251aaa50>"
      ]
     },
     "execution_count": 131,
     "metadata": {},
     "output_type": "execute_result"
    },
    {
     "data": {
      "image/png": "[encoded data removed]",
      "text/plain": [
       "<matplotlib.figure.Figure at 0x1265856d0>"
      ]
     },
     "metadata": {},
     "output_type": "display_data"
    }
   ],
   "source": [
    "plt.plot(grid2res.ncomponents,grid2res.testRnz,label='Excluding zeroes')\n",
    "plt.xlabel('ncomponents')\n",
    "plt.ylabel('R')"
   ]
  },
  {
   "cell_type": "markdown",
   "metadata": {},
   "source": [
    "So something like 25 components for this dataset.. now let's see how we do with the realistic set."
   ]
  },
  {
   "cell_type": "code",
   "execution_count": 132,
   "metadata": {
    "collapsed": true
   },
   "outputs": [],
   "source": [
    "model = nmf.NMF(solver='mu',n_components=25,init='random')\n",
    "W = model.fit_transform(realtrain_m)\n",
    "H = model.components_\n",
    "pred = np.matmul(W,H)\n",
    "trainpred = getpred(pred,realtrain, cmpdids, assayids)\n",
    "testpred = getpred(pred,realtest,cmpdids,assayids)\n",
    "testnotzero = testpred[testpred[:,1] > 0]\n",
    "trainR = np.corrcoef(trainpred.T)[0][1]\n",
    "testR = np.corrcoef(testpred.T)[0][1]\n",
    "testRnz = np.corrcoef(testnotzero.T)[0][1]\n",
    "\n",
    "trainRMS = mean_squared_error(trainpred[:,0],trainpred[:,1])\n",
    "testRMS = mean_squared_error(testpred[:,0],testpred[:,1])\n",
    "testRMSnz = mean_squared_error(testnotzero[:,0],testnotzero[:,1])"
   ]
  },
  {
   "cell_type": "code",
   "execution_count": 133,
   "metadata": {
    "collapsed": false
   },
   "outputs": [
    {
     "data": {
      "text/plain": [
       "(0, 12)"
      ]
     },
     "execution_count": 133,
     "metadata": {},
     "output_type": "execute_result"
    },
    {
     "data": {
      "image/png": "[encoded data removed]",
      "text/plain": [
       "<matplotlib.figure.Figure at 0x1261fbad0>"
      ]
     },
     "metadata": {},
     "output_type": "display_data"
    }
   ],
   "source": [
    "fig = plt.figure(figsize=(8,4))\n",
    "ax = plt.subplot(1,2,1)\n",
    "ax.plot(trainpred[:,0],trainpred[:,1],'o',alpha=.1,markeredgewidth=0)\n",
    "ax.set_aspect('equal')\n",
    "ax.set_xlabel('Experimental')\n",
    "ax.set_ylabel('Predicted')\n",
    "ax.set_title(\"Training Set\")\n",
    "ax.set_ylim(0,12)\n",
    "ax.set_xlim(0,12)\n",
    "\n",
    "ax = plt.subplot(1,2,2)\n",
    "ax.plot(testpred[:,0],testpred[:,1],'o',alpha=.1,markeredgewidth=0)\n",
    "ax.set_aspect('equal')\n",
    "ax.set_xlabel('Experimental')\n",
    "ax.set_title(\"Test Set\")\n",
    "ax.set_ylim(0,12)\n",
    "ax.set_xlim(0,12)"
   ]
  },
  {
   "cell_type": "code",
   "execution_count": 134,
   "metadata": {
    "collapsed": false
   },
   "outputs": [
    {
     "name": "stdout",
     "output_type": "stream",
     "text": [
      "Pearson R = 0.47169590548 RMSE 0.959472833936\n"
     ]
    }
   ],
   "source": [
    "print \"Pearson R =\",np.corrcoef(testnotzero.T)[0][1],\"RMSE\", mean_squared_error(testnotzero[:,0],testnotzero[:,1])"
   ]
  },
  {
   "cell_type": "code",
   "execution_count": 135,
   "metadata": {
    "collapsed": false
   },
   "outputs": [
    {
     "data": {
      "text/plain": [
       "0.6933227859480062"
      ]
     },
     "execution_count": 135,
     "metadata": {},
     "output_type": "execute_result"
    }
   ],
   "source": [
    "len(testnotzero)/float(len(testpred))"
   ]
  },
  {
   "cell_type": "markdown",
   "metadata": {},
   "source": [
    "As expected, we do worse and there are more zeroes (presumably cases where there simply isn't information in the training set on the assay or compound).\n",
    "\n",
    "\n",
    "So what happens if we add fingerprints to the matrix?  This would let the model tie data together using chemical similarity, however traditional matrix factorization is unlikely to be ideal as the same norm is applied to the whole matrix despite the matrix containing two very different types of data (fingerprint bits and affinities).\n",
    "\n",
    "Nonetheless, let's see what happens."
   ]
  },
  {
   "cell_type": "code",
   "execution_count": null,
   "metadata": {
    "collapsed": false
   },
   "outputs": [],
   "source": []
  },
  {
   "cell_type": "code",
   "execution_count": null,
   "metadata": {
    "collapsed": true
   },
   "outputs": [],
   "source": []
  }
 ],
 "metadata": {
  "kernelspec": {
   "display_name": "Python 2",
   "language": "python",
   "name": "python2"
  },
  "language_info": {
   "codemirror_mode": {
    "name": "ipython",
    "version": 2
   },
   "file_extension": ".py",
   "mimetype": "text/x-python",
   "name": "python",
   "nbconvert_exporter": "python",
   "pygments_lexer": "ipython2",
   "version": "2.7.13"
  }
 },
 "nbformat": 4,
 "nbformat_minor": 1
}
