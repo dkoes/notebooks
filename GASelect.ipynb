{
 "cells": [
  {
   "cell_type": "markdown",
   "metadata": {},
   "source": [
    "Attempt to select a better set of active poses from our DUDe training set by applying a genetic algorithm to maximize the cross-validation performance of linear regression.\n",
    "\n",
    "1. Read massive DUDe file (16GB), save all actives, create 10(?) random sampeles of balanced decoys.  This means if there are ~20,000 distinct active ligands, we will have 10 different sets of randomly selected 20,000 decoys, but with no more than one pose per ligand.\n",
    "2. Segment training set into 3 folds, leaving target collections intact.\n",
    "3. Represent a population as a selection of each pose of the active ligands.  Initialize with the best scoring pose.  Note selection spans training and test sets.\n",
    "3. Evaluate fitness by cross-validation of linear regression.\n",
    "4. Mutation randomly selects different pose. Crossover randomly chooses between two populations."
   ]
  },
  {
   "cell_type": "code",
   "execution_count": null,
   "metadata": {
    "collapsed": true
   },
   "outputs": [],
   "source": []
  }
 ],
 "metadata": {
  "kernelspec": {
   "display_name": "Python 2",
   "language": "python",
   "name": "python2"
  },
  "language_info": {
   "codemirror_mode": {
    "name": "ipython",
    "version": 2
   },
   "file_extension": ".py",
   "mimetype": "text/x-python",
   "name": "python",
   "nbconvert_exporter": "python",
   "pygments_lexer": "ipython2",
   "version": "2.7.6"
  }
 },
 "nbformat": 4,
 "nbformat_minor": 0
}
